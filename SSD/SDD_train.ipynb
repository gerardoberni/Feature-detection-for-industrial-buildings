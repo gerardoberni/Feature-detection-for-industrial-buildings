{
  "nbformat": 4,
  "nbformat_minor": 0,
  "metadata": {
    "accelerator": "GPU",
    "colab": {
      "name": "SDD_train",
      "provenance": [],
      "collapsed_sections": [],
      "toc_visible": true
    },
    "kernelspec": {
      "display_name": "Python 3",
      "language": "python",
      "name": "python3"
    },
    "language_info": {
      "codemirror_mode": {
        "name": "ipython",
        "version": 3
      },
      "file_extension": ".py",
      "mimetype": "text/x-python",
      "name": "python",
      "nbconvert_exporter": "python",
      "pygments_lexer": "ipython3",
      "version": "3.6.8"
    },
    "widgets": {
      "application/vnd.jupyter.widget-state+json": {
        "6937654684a34f7283247381e581e56f": {
          "model_module": "@jupyter-widgets/controls",
          "model_name": "HBoxModel",
          "state": {
            "_view_name": "HBoxView",
            "_dom_classes": [],
            "_model_name": "HBoxModel",
            "_view_module": "@jupyter-widgets/controls",
            "_model_module_version": "1.5.0",
            "_view_count": null,
            "_view_module_version": "1.5.0",
            "box_style": "",
            "layout": "IPY_MODEL_3511cb884cdd48af833f61d81e9fa78b",
            "_model_module": "@jupyter-widgets/controls",
            "children": [
              "IPY_MODEL_5410382022ee4272a16b71d69ab9388a",
              "IPY_MODEL_d0f03bd2fe3a4f6aacbb131d48fd774f"
            ]
          }
        },
        "3511cb884cdd48af833f61d81e9fa78b": {
          "model_module": "@jupyter-widgets/base",
          "model_name": "LayoutModel",
          "state": {
            "_view_name": "LayoutView",
            "grid_template_rows": null,
            "right": null,
            "justify_content": null,
            "_view_module": "@jupyter-widgets/base",
            "overflow": null,
            "_model_module_version": "1.2.0",
            "_view_count": null,
            "flex_flow": null,
            "width": null,
            "min_width": null,
            "border": null,
            "align_items": null,
            "bottom": null,
            "_model_module": "@jupyter-widgets/base",
            "top": null,
            "grid_column": null,
            "overflow_y": null,
            "overflow_x": null,
            "grid_auto_flow": null,
            "grid_area": null,
            "grid_template_columns": null,
            "flex": null,
            "_model_name": "LayoutModel",
            "justify_items": null,
            "grid_row": null,
            "max_height": null,
            "align_content": null,
            "visibility": null,
            "align_self": null,
            "height": null,
            "min_height": null,
            "padding": null,
            "grid_auto_rows": null,
            "grid_gap": null,
            "max_width": null,
            "order": null,
            "_view_module_version": "1.2.0",
            "grid_template_areas": null,
            "object_position": null,
            "object_fit": null,
            "grid_auto_columns": null,
            "margin": null,
            "display": null,
            "left": null
          }
        },
        "5410382022ee4272a16b71d69ab9388a": {
          "model_module": "@jupyter-widgets/controls",
          "model_name": "FloatProgressModel",
          "state": {
            "_view_name": "ProgressView",
            "style": "IPY_MODEL_bff8556b39784b339ae4f78f628e102d",
            "_dom_classes": [],
            "description": "100%",
            "_model_name": "FloatProgressModel",
            "bar_style": "success",
            "max": 178728960,
            "_view_module": "@jupyter-widgets/controls",
            "_model_module_version": "1.5.0",
            "value": 178728960,
            "_view_count": null,
            "_view_module_version": "1.5.0",
            "orientation": "horizontal",
            "min": 0,
            "description_tooltip": null,
            "_model_module": "@jupyter-widgets/controls",
            "layout": "IPY_MODEL_54840823a9bc493f867c1f672e05c548"
          }
        },
        "d0f03bd2fe3a4f6aacbb131d48fd774f": {
          "model_module": "@jupyter-widgets/controls",
          "model_name": "HTMLModel",
          "state": {
            "_view_name": "HTMLView",
            "style": "IPY_MODEL_82da9b9db7af4f0087935a6014061b41",
            "_dom_classes": [],
            "description": "",
            "_model_name": "HTMLModel",
            "placeholder": "​",
            "_view_module": "@jupyter-widgets/controls",
            "_model_module_version": "1.5.0",
            "value": " 170M/170M [00:16&lt;00:00, 10.8MB/s]",
            "_view_count": null,
            "_view_module_version": "1.5.0",
            "description_tooltip": null,
            "_model_module": "@jupyter-widgets/controls",
            "layout": "IPY_MODEL_21b7dcc6e5294a8997a2e4148c6a3187"
          }
        },
        "bff8556b39784b339ae4f78f628e102d": {
          "model_module": "@jupyter-widgets/controls",
          "model_name": "ProgressStyleModel",
          "state": {
            "_view_name": "StyleView",
            "_model_name": "ProgressStyleModel",
            "description_width": "initial",
            "_view_module": "@jupyter-widgets/base",
            "_model_module_version": "1.5.0",
            "_view_count": null,
            "_view_module_version": "1.2.0",
            "bar_color": null,
            "_model_module": "@jupyter-widgets/controls"
          }
        },
        "54840823a9bc493f867c1f672e05c548": {
          "model_module": "@jupyter-widgets/base",
          "model_name": "LayoutModel",
          "state": {
            "_view_name": "LayoutView",
            "grid_template_rows": null,
            "right": null,
            "justify_content": null,
            "_view_module": "@jupyter-widgets/base",
            "overflow": null,
            "_model_module_version": "1.2.0",
            "_view_count": null,
            "flex_flow": null,
            "width": null,
            "min_width": null,
            "border": null,
            "align_items": null,
            "bottom": null,
            "_model_module": "@jupyter-widgets/base",
            "top": null,
            "grid_column": null,
            "overflow_y": null,
            "overflow_x": null,
            "grid_auto_flow": null,
            "grid_area": null,
            "grid_template_columns": null,
            "flex": null,
            "_model_name": "LayoutModel",
            "justify_items": null,
            "grid_row": null,
            "max_height": null,
            "align_content": null,
            "visibility": null,
            "align_self": null,
            "height": null,
            "min_height": null,
            "padding": null,
            "grid_auto_rows": null,
            "grid_gap": null,
            "max_width": null,
            "order": null,
            "_view_module_version": "1.2.0",
            "grid_template_areas": null,
            "object_position": null,
            "object_fit": null,
            "grid_auto_columns": null,
            "margin": null,
            "display": null,
            "left": null
          }
        },
        "82da9b9db7af4f0087935a6014061b41": {
          "model_module": "@jupyter-widgets/controls",
          "model_name": "DescriptionStyleModel",
          "state": {
            "_view_name": "StyleView",
            "_model_name": "DescriptionStyleModel",
            "description_width": "",
            "_view_module": "@jupyter-widgets/base",
            "_model_module_version": "1.5.0",
            "_view_count": null,
            "_view_module_version": "1.2.0",
            "_model_module": "@jupyter-widgets/controls"
          }
        },
        "21b7dcc6e5294a8997a2e4148c6a3187": {
          "model_module": "@jupyter-widgets/base",
          "model_name": "LayoutModel",
          "state": {
            "_view_name": "LayoutView",
            "grid_template_rows": null,
            "right": null,
            "justify_content": null,
            "_view_module": "@jupyter-widgets/base",
            "overflow": null,
            "_model_module_version": "1.2.0",
            "_view_count": null,
            "flex_flow": null,
            "width": null,
            "min_width": null,
            "border": null,
            "align_items": null,
            "bottom": null,
            "_model_module": "@jupyter-widgets/base",
            "top": null,
            "grid_column": null,
            "overflow_y": null,
            "overflow_x": null,
            "grid_auto_flow": null,
            "grid_area": null,
            "grid_template_columns": null,
            "flex": null,
            "_model_name": "LayoutModel",
            "justify_items": null,
            "grid_row": null,
            "max_height": null,
            "align_content": null,
            "visibility": null,
            "align_self": null,
            "height": null,
            "min_height": null,
            "padding": null,
            "grid_auto_rows": null,
            "grid_gap": null,
            "max_width": null,
            "order": null,
            "_view_module_version": "1.2.0",
            "grid_template_areas": null,
            "object_position": null,
            "object_fit": null,
            "grid_auto_columns": null,
            "margin": null,
            "display": null,
            "left": null
          }
        },
        "75e0e9acbace4203982701ac00dd2443": {
          "model_module": "@jupyter-widgets/controls",
          "model_name": "HBoxModel",
          "state": {
            "_view_name": "HBoxView",
            "_dom_classes": [],
            "_model_name": "HBoxModel",
            "_view_module": "@jupyter-widgets/controls",
            "_model_module_version": "1.5.0",
            "_view_count": null,
            "_view_module_version": "1.5.0",
            "box_style": "",
            "layout": "IPY_MODEL_87a0a115f2c545cc9e21f5030c42da9b",
            "_model_module": "@jupyter-widgets/controls",
            "children": [
              "IPY_MODEL_2bb9ce48bd364cb7a9a186c6cee5ed18",
              "IPY_MODEL_04235ce3f5914493977a40892807e656"
            ]
          }
        },
        "87a0a115f2c545cc9e21f5030c42da9b": {
          "model_module": "@jupyter-widgets/base",
          "model_name": "LayoutModel",
          "state": {
            "_view_name": "LayoutView",
            "grid_template_rows": null,
            "right": null,
            "justify_content": null,
            "_view_module": "@jupyter-widgets/base",
            "overflow": null,
            "_model_module_version": "1.2.0",
            "_view_count": null,
            "flex_flow": null,
            "width": null,
            "min_width": null,
            "border": null,
            "align_items": null,
            "bottom": null,
            "_model_module": "@jupyter-widgets/base",
            "top": null,
            "grid_column": null,
            "overflow_y": null,
            "overflow_x": null,
            "grid_auto_flow": null,
            "grid_area": null,
            "grid_template_columns": null,
            "flex": null,
            "_model_name": "LayoutModel",
            "justify_items": null,
            "grid_row": null,
            "max_height": null,
            "align_content": null,
            "visibility": null,
            "align_self": null,
            "height": null,
            "min_height": null,
            "padding": null,
            "grid_auto_rows": null,
            "grid_gap": null,
            "max_width": null,
            "order": null,
            "_view_module_version": "1.2.0",
            "grid_template_areas": null,
            "object_position": null,
            "object_fit": null,
            "grid_auto_columns": null,
            "margin": null,
            "display": null,
            "left": null
          }
        },
        "2bb9ce48bd364cb7a9a186c6cee5ed18": {
          "model_module": "@jupyter-widgets/controls",
          "model_name": "FloatProgressModel",
          "state": {
            "_view_name": "ProgressView",
            "style": "IPY_MODEL_e64dd3b675274553ad011435880dc9f5",
            "_dom_classes": [],
            "description": "100%",
            "_model_name": "FloatProgressModel",
            "bar_style": "success",
            "max": 574769405,
            "_view_module": "@jupyter-widgets/controls",
            "_model_module_version": "1.5.0",
            "value": 574769405,
            "_view_count": null,
            "_view_module_version": "1.5.0",
            "orientation": "horizontal",
            "min": 0,
            "description_tooltip": null,
            "_model_module": "@jupyter-widgets/controls",
            "layout": "IPY_MODEL_abf6d570a44b449a8678b1508d9f9c86"
          }
        },
        "04235ce3f5914493977a40892807e656": {
          "model_module": "@jupyter-widgets/controls",
          "model_name": "HTMLModel",
          "state": {
            "_view_name": "HTMLView",
            "style": "IPY_MODEL_7e89f70b934d4e0591c840de03d5d305",
            "_dom_classes": [],
            "description": "",
            "_model_name": "HTMLModel",
            "placeholder": "​",
            "_view_module": "@jupyter-widgets/controls",
            "_model_module_version": "1.5.0",
            "value": " 548M/548M [29:29&lt;00:00, 325kB/s]",
            "_view_count": null,
            "_view_module_version": "1.5.0",
            "description_tooltip": null,
            "_model_module": "@jupyter-widgets/controls",
            "layout": "IPY_MODEL_45135a453ac34c3d9d1f14a295f82466"
          }
        },
        "e64dd3b675274553ad011435880dc9f5": {
          "model_module": "@jupyter-widgets/controls",
          "model_name": "ProgressStyleModel",
          "state": {
            "_view_name": "StyleView",
            "_model_name": "ProgressStyleModel",
            "description_width": "initial",
            "_view_module": "@jupyter-widgets/base",
            "_model_module_version": "1.5.0",
            "_view_count": null,
            "_view_module_version": "1.2.0",
            "bar_color": null,
            "_model_module": "@jupyter-widgets/controls"
          }
        },
        "abf6d570a44b449a8678b1508d9f9c86": {
          "model_module": "@jupyter-widgets/base",
          "model_name": "LayoutModel",
          "state": {
            "_view_name": "LayoutView",
            "grid_template_rows": null,
            "right": null,
            "justify_content": null,
            "_view_module": "@jupyter-widgets/base",
            "overflow": null,
            "_model_module_version": "1.2.0",
            "_view_count": null,
            "flex_flow": null,
            "width": null,
            "min_width": null,
            "border": null,
            "align_items": null,
            "bottom": null,
            "_model_module": "@jupyter-widgets/base",
            "top": null,
            "grid_column": null,
            "overflow_y": null,
            "overflow_x": null,
            "grid_auto_flow": null,
            "grid_area": null,
            "grid_template_columns": null,
            "flex": null,
            "_model_name": "LayoutModel",
            "justify_items": null,
            "grid_row": null,
            "max_height": null,
            "align_content": null,
            "visibility": null,
            "align_self": null,
            "height": null,
            "min_height": null,
            "padding": null,
            "grid_auto_rows": null,
            "grid_gap": null,
            "max_width": null,
            "order": null,
            "_view_module_version": "1.2.0",
            "grid_template_areas": null,
            "object_position": null,
            "object_fit": null,
            "grid_auto_columns": null,
            "margin": null,
            "display": null,
            "left": null
          }
        },
        "7e89f70b934d4e0591c840de03d5d305": {
          "model_module": "@jupyter-widgets/controls",
          "model_name": "DescriptionStyleModel",
          "state": {
            "_view_name": "StyleView",
            "_model_name": "DescriptionStyleModel",
            "description_width": "",
            "_view_module": "@jupyter-widgets/base",
            "_model_module_version": "1.5.0",
            "_view_count": null,
            "_view_module_version": "1.2.0",
            "_model_module": "@jupyter-widgets/controls"
          }
        },
        "45135a453ac34c3d9d1f14a295f82466": {
          "model_module": "@jupyter-widgets/base",
          "model_name": "LayoutModel",
          "state": {
            "_view_name": "LayoutView",
            "grid_template_rows": null,
            "right": null,
            "justify_content": null,
            "_view_module": "@jupyter-widgets/base",
            "overflow": null,
            "_model_module_version": "1.2.0",
            "_view_count": null,
            "flex_flow": null,
            "width": null,
            "min_width": null,
            "border": null,
            "align_items": null,
            "bottom": null,
            "_model_module": "@jupyter-widgets/base",
            "top": null,
            "grid_column": null,
            "overflow_y": null,
            "overflow_x": null,
            "grid_auto_flow": null,
            "grid_area": null,
            "grid_template_columns": null,
            "flex": null,
            "_model_name": "LayoutModel",
            "justify_items": null,
            "grid_row": null,
            "max_height": null,
            "align_content": null,
            "visibility": null,
            "align_self": null,
            "height": null,
            "min_height": null,
            "padding": null,
            "grid_auto_rows": null,
            "grid_gap": null,
            "max_width": null,
            "order": null,
            "_view_module_version": "1.2.0",
            "grid_template_areas": null,
            "object_position": null,
            "object_fit": null,
            "grid_auto_columns": null,
            "margin": null,
            "display": null,
            "left": null
          }
        },
        "e2f5043ed9974884a40c9b034c0c85c8": {
          "model_module": "@jupyter-widgets/controls",
          "model_name": "HBoxModel",
          "state": {
            "_view_name": "HBoxView",
            "_dom_classes": [],
            "_model_name": "HBoxModel",
            "_view_module": "@jupyter-widgets/controls",
            "_model_module_version": "1.5.0",
            "_view_count": null,
            "_view_module_version": "1.5.0",
            "box_style": "",
            "layout": "IPY_MODEL_84ff8ebee8c74707a004a649649b32a5",
            "_model_module": "@jupyter-widgets/controls",
            "children": [
              "IPY_MODEL_ef901232142546d3b276ed218f827159",
              "IPY_MODEL_2410df17a8964f459256d799200eeb79"
            ]
          }
        },
        "84ff8ebee8c74707a004a649649b32a5": {
          "model_module": "@jupyter-widgets/base",
          "model_name": "LayoutModel",
          "state": {
            "_view_name": "LayoutView",
            "grid_template_rows": null,
            "right": null,
            "justify_content": null,
            "_view_module": "@jupyter-widgets/base",
            "overflow": null,
            "_model_module_version": "1.2.0",
            "_view_count": null,
            "flex_flow": null,
            "width": null,
            "min_width": null,
            "border": null,
            "align_items": null,
            "bottom": null,
            "_model_module": "@jupyter-widgets/base",
            "top": null,
            "grid_column": null,
            "overflow_y": null,
            "overflow_x": null,
            "grid_auto_flow": null,
            "grid_area": null,
            "grid_template_columns": null,
            "flex": null,
            "_model_name": "LayoutModel",
            "justify_items": null,
            "grid_row": null,
            "max_height": null,
            "align_content": null,
            "visibility": null,
            "align_self": null,
            "height": null,
            "min_height": null,
            "padding": null,
            "grid_auto_rows": null,
            "grid_gap": null,
            "max_width": null,
            "order": null,
            "_view_module_version": "1.2.0",
            "grid_template_areas": null,
            "object_position": null,
            "object_fit": null,
            "grid_auto_columns": null,
            "margin": null,
            "display": null,
            "left": null
          }
        },
        "ef901232142546d3b276ed218f827159": {
          "model_module": "@jupyter-widgets/controls",
          "model_name": "FloatProgressModel",
          "state": {
            "_view_name": "ProgressView",
            "style": "IPY_MODEL_39b81143cb2f44b08056bb62a177e14a",
            "_dom_classes": [],
            "description": "100%",
            "_model_name": "FloatProgressModel",
            "bar_style": "success",
            "max": 52147035,
            "_view_module": "@jupyter-widgets/controls",
            "_model_module_version": "1.5.0",
            "value": 52147035,
            "_view_count": null,
            "_view_module_version": "1.5.0",
            "orientation": "horizontal",
            "min": 0,
            "description_tooltip": null,
            "_model_module": "@jupyter-widgets/controls",
            "layout": "IPY_MODEL_2205191fb2f74d06949eb08bab835fcd"
          }
        },
        "2410df17a8964f459256d799200eeb79": {
          "model_module": "@jupyter-widgets/controls",
          "model_name": "HTMLModel",
          "state": {
            "_view_name": "HTMLView",
            "style": "IPY_MODEL_f48631371c5741c9bece94f36e023079",
            "_dom_classes": [],
            "description": "",
            "_model_name": "HTMLModel",
            "placeholder": "​",
            "_view_module": "@jupyter-widgets/controls",
            "_model_module_version": "1.5.0",
            "value": " 49.7M/49.7M [02:19&lt;00:00, 375kB/s]",
            "_view_count": null,
            "_view_module_version": "1.5.0",
            "description_tooltip": null,
            "_model_module": "@jupyter-widgets/controls",
            "layout": "IPY_MODEL_e69096b3fc5e4a7e99221156e8a39053"
          }
        },
        "39b81143cb2f44b08056bb62a177e14a": {
          "model_module": "@jupyter-widgets/controls",
          "model_name": "ProgressStyleModel",
          "state": {
            "_view_name": "StyleView",
            "_model_name": "ProgressStyleModel",
            "description_width": "initial",
            "_view_module": "@jupyter-widgets/base",
            "_model_module_version": "1.5.0",
            "_view_count": null,
            "_view_module_version": "1.2.0",
            "bar_color": null,
            "_model_module": "@jupyter-widgets/controls"
          }
        },
        "2205191fb2f74d06949eb08bab835fcd": {
          "model_module": "@jupyter-widgets/base",
          "model_name": "LayoutModel",
          "state": {
            "_view_name": "LayoutView",
            "grid_template_rows": null,
            "right": null,
            "justify_content": null,
            "_view_module": "@jupyter-widgets/base",
            "overflow": null,
            "_model_module_version": "1.2.0",
            "_view_count": null,
            "flex_flow": null,
            "width": null,
            "min_width": null,
            "border": null,
            "align_items": null,
            "bottom": null,
            "_model_module": "@jupyter-widgets/base",
            "top": null,
            "grid_column": null,
            "overflow_y": null,
            "overflow_x": null,
            "grid_auto_flow": null,
            "grid_area": null,
            "grid_template_columns": null,
            "flex": null,
            "_model_name": "LayoutModel",
            "justify_items": null,
            "grid_row": null,
            "max_height": null,
            "align_content": null,
            "visibility": null,
            "align_self": null,
            "height": null,
            "min_height": null,
            "padding": null,
            "grid_auto_rows": null,
            "grid_gap": null,
            "max_width": null,
            "order": null,
            "_view_module_version": "1.2.0",
            "grid_template_areas": null,
            "object_position": null,
            "object_fit": null,
            "grid_auto_columns": null,
            "margin": null,
            "display": null,
            "left": null
          }
        },
        "f48631371c5741c9bece94f36e023079": {
          "model_module": "@jupyter-widgets/controls",
          "model_name": "DescriptionStyleModel",
          "state": {
            "_view_name": "StyleView",
            "_model_name": "DescriptionStyleModel",
            "description_width": "",
            "_view_module": "@jupyter-widgets/base",
            "_model_module_version": "1.5.0",
            "_view_count": null,
            "_view_module_version": "1.2.0",
            "_model_module": "@jupyter-widgets/controls"
          }
        },
        "e69096b3fc5e4a7e99221156e8a39053": {
          "model_module": "@jupyter-widgets/base",
          "model_name": "LayoutModel",
          "state": {
            "_view_name": "LayoutView",
            "grid_template_rows": null,
            "right": null,
            "justify_content": null,
            "_view_module": "@jupyter-widgets/base",
            "overflow": null,
            "_model_module_version": "1.2.0",
            "_view_count": null,
            "flex_flow": null,
            "width": null,
            "min_width": null,
            "border": null,
            "align_items": null,
            "bottom": null,
            "_model_module": "@jupyter-widgets/base",
            "top": null,
            "grid_column": null,
            "overflow_y": null,
            "overflow_x": null,
            "grid_auto_flow": null,
            "grid_area": null,
            "grid_template_columns": null,
            "flex": null,
            "_model_name": "LayoutModel",
            "justify_items": null,
            "grid_row": null,
            "max_height": null,
            "align_content": null,
            "visibility": null,
            "align_self": null,
            "height": null,
            "min_height": null,
            "padding": null,
            "grid_auto_rows": null,
            "grid_gap": null,
            "max_width": null,
            "order": null,
            "_view_module_version": "1.2.0",
            "grid_template_areas": null,
            "object_position": null,
            "object_fit": null,
            "grid_auto_columns": null,
            "margin": null,
            "display": null,
            "left": null
          }
        },
        "c53acecb78e940e0b34192f641de6a79": {
          "model_module": "@jupyter-widgets/controls",
          "model_name": "HBoxModel",
          "state": {
            "_view_name": "HBoxView",
            "_dom_classes": [],
            "_model_name": "HBoxModel",
            "_view_module": "@jupyter-widgets/controls",
            "_model_module_version": "1.5.0",
            "_view_count": null,
            "_view_module_version": "1.5.0",
            "box_style": "",
            "layout": "IPY_MODEL_ef2f7d5739aa4ac89539534498e2ed22",
            "_model_module": "@jupyter-widgets/controls",
            "children": [
              "IPY_MODEL_e5dbc199ad7d417a87a20745f141206a",
              "IPY_MODEL_2b94c74c38c94c708beacb1e65bcdcea"
            ]
          }
        },
        "ef2f7d5739aa4ac89539534498e2ed22": {
          "model_module": "@jupyter-widgets/base",
          "model_name": "LayoutModel",
          "state": {
            "_view_name": "LayoutView",
            "grid_template_rows": null,
            "right": null,
            "justify_content": null,
            "_view_module": "@jupyter-widgets/base",
            "overflow": null,
            "_model_module_version": "1.2.0",
            "_view_count": null,
            "flex_flow": null,
            "width": null,
            "min_width": null,
            "border": null,
            "align_items": null,
            "bottom": null,
            "_model_module": "@jupyter-widgets/base",
            "top": null,
            "grid_column": null,
            "overflow_y": null,
            "overflow_x": null,
            "grid_auto_flow": null,
            "grid_area": null,
            "grid_template_columns": null,
            "flex": null,
            "_model_name": "LayoutModel",
            "justify_items": null,
            "grid_row": null,
            "max_height": null,
            "align_content": null,
            "visibility": null,
            "align_self": null,
            "height": null,
            "min_height": null,
            "padding": null,
            "grid_auto_rows": null,
            "grid_gap": null,
            "max_width": null,
            "order": null,
            "_view_module_version": "1.2.0",
            "grid_template_areas": null,
            "object_position": null,
            "object_fit": null,
            "grid_auto_columns": null,
            "margin": null,
            "display": null,
            "left": null
          }
        },
        "e5dbc199ad7d417a87a20745f141206a": {
          "model_module": "@jupyter-widgets/controls",
          "model_name": "FloatProgressModel",
          "state": {
            "_view_name": "ProgressView",
            "style": "IPY_MODEL_7da18b1ec2664b0597c0506dd587cbab",
            "_dom_classes": [],
            "description": "100%",
            "_model_name": "FloatProgressModel",
            "bar_style": "success",
            "max": 553507836,
            "_view_module": "@jupyter-widgets/controls",
            "_model_module_version": "1.5.0",
            "value": 553507836,
            "_view_count": null,
            "_view_module_version": "1.5.0",
            "orientation": "horizontal",
            "min": 0,
            "description_tooltip": null,
            "_model_module": "@jupyter-widgets/controls",
            "layout": "IPY_MODEL_2a521c403fb04eb9a114362cf7c445b5"
          }
        },
        "2b94c74c38c94c708beacb1e65bcdcea": {
          "model_module": "@jupyter-widgets/controls",
          "model_name": "HTMLModel",
          "state": {
            "_view_name": "HTMLView",
            "style": "IPY_MODEL_4595a1e9135f48a792f9dd84e8b8946a",
            "_dom_classes": [],
            "description": "",
            "_model_name": "HTMLModel",
            "placeholder": "​",
            "_view_module": "@jupyter-widgets/controls",
            "_model_module_version": "1.5.0",
            "value": " 528M/528M [00:10&lt;00:00, 51.5MB/s]",
            "_view_count": null,
            "_view_module_version": "1.5.0",
            "description_tooltip": null,
            "_model_module": "@jupyter-widgets/controls",
            "layout": "IPY_MODEL_2368fb85f6424823864375bbcf0bb1ba"
          }
        },
        "7da18b1ec2664b0597c0506dd587cbab": {
          "model_module": "@jupyter-widgets/controls",
          "model_name": "ProgressStyleModel",
          "state": {
            "_view_name": "StyleView",
            "_model_name": "ProgressStyleModel",
            "description_width": "initial",
            "_view_module": "@jupyter-widgets/base",
            "_model_module_version": "1.5.0",
            "_view_count": null,
            "_view_module_version": "1.2.0",
            "bar_color": null,
            "_model_module": "@jupyter-widgets/controls"
          }
        },
        "2a521c403fb04eb9a114362cf7c445b5": {
          "model_module": "@jupyter-widgets/base",
          "model_name": "LayoutModel",
          "state": {
            "_view_name": "LayoutView",
            "grid_template_rows": null,
            "right": null,
            "justify_content": null,
            "_view_module": "@jupyter-widgets/base",
            "overflow": null,
            "_model_module_version": "1.2.0",
            "_view_count": null,
            "flex_flow": null,
            "width": null,
            "min_width": null,
            "border": null,
            "align_items": null,
            "bottom": null,
            "_model_module": "@jupyter-widgets/base",
            "top": null,
            "grid_column": null,
            "overflow_y": null,
            "overflow_x": null,
            "grid_auto_flow": null,
            "grid_area": null,
            "grid_template_columns": null,
            "flex": null,
            "_model_name": "LayoutModel",
            "justify_items": null,
            "grid_row": null,
            "max_height": null,
            "align_content": null,
            "visibility": null,
            "align_self": null,
            "height": null,
            "min_height": null,
            "padding": null,
            "grid_auto_rows": null,
            "grid_gap": null,
            "max_width": null,
            "order": null,
            "_view_module_version": "1.2.0",
            "grid_template_areas": null,
            "object_position": null,
            "object_fit": null,
            "grid_auto_columns": null,
            "margin": null,
            "display": null,
            "left": null
          }
        },
        "4595a1e9135f48a792f9dd84e8b8946a": {
          "model_module": "@jupyter-widgets/controls",
          "model_name": "DescriptionStyleModel",
          "state": {
            "_view_name": "StyleView",
            "_model_name": "DescriptionStyleModel",
            "description_width": "",
            "_view_module": "@jupyter-widgets/base",
            "_model_module_version": "1.5.0",
            "_view_count": null,
            "_view_module_version": "1.2.0",
            "_model_module": "@jupyter-widgets/controls"
          }
        },
        "2368fb85f6424823864375bbcf0bb1ba": {
          "model_module": "@jupyter-widgets/base",
          "model_name": "LayoutModel",
          "state": {
            "_view_name": "LayoutView",
            "grid_template_rows": null,
            "right": null,
            "justify_content": null,
            "_view_module": "@jupyter-widgets/base",
            "overflow": null,
            "_model_module_version": "1.2.0",
            "_view_count": null,
            "flex_flow": null,
            "width": null,
            "min_width": null,
            "border": null,
            "align_items": null,
            "bottom": null,
            "_model_module": "@jupyter-widgets/base",
            "top": null,
            "grid_column": null,
            "overflow_y": null,
            "overflow_x": null,
            "grid_auto_flow": null,
            "grid_area": null,
            "grid_template_columns": null,
            "flex": null,
            "_model_name": "LayoutModel",
            "justify_items": null,
            "grid_row": null,
            "max_height": null,
            "align_content": null,
            "visibility": null,
            "align_self": null,
            "height": null,
            "min_height": null,
            "padding": null,
            "grid_auto_rows": null,
            "grid_gap": null,
            "max_width": null,
            "order": null,
            "_view_module_version": "1.2.0",
            "grid_template_areas": null,
            "object_position": null,
            "object_fit": null,
            "grid_auto_columns": null,
            "margin": null,
            "display": null,
            "left": null
          }
        }
      }
    }
  },
  "cells": [
    {
      "cell_type": "code",
      "metadata": {
        "id": "ICScwq_7SFPm"
      },
      "source": [
        "%matplotlib inline"
      ],
      "execution_count": null,
      "outputs": []
    },
    {
      "cell_type": "code",
      "metadata": {
        "id": "wNO4KLCgSFPs",
        "colab": {
          "base_uri": "https://localhost:8080/"
        },
        "outputId": "0119e36b-f2d1-4d2c-ec75-c0e21e284335"
      },
      "source": [
        "# License: BSD\n",
        "# Author: Sasank Chilamkurthy\n",
        "\n",
        "from __future__ import print_function, division\n",
        "import random\n",
        "import torch\n",
        "import torch.nn as nn\n",
        "import torch.optim as optim\n",
        "from torch.optim import lr_scheduler\n",
        "import numpy as np\n",
        "import torchvision\n",
        "from torchvision import datasets, models, transforms\n",
        "import matplotlib.pyplot as plt\n",
        "import time\n",
        "import os\n",
        "import copy\n",
        "from PIL import Image\n",
        "import cv2\n",
        "import matplotlib.pylab as plt\n",
        "import os\n",
        "from matplotlib import pyplot as plt\n",
        "import shutil, sys  \n",
        "from sklearn.metrics import confusion_matrix\n",
        "import itertools\n",
        "from mlxtend.plotting import plot_confusion_matrix\n",
        "import sklearn as skplt\n",
        "!pip install scikit-plot  \n",
        "import scikitplot as skplt\n",
        "from skimage.exposure import rescale_intensity\n",
        "from skimage.segmentation import slic\n",
        "from skimage.util import img_as_float\n",
        "from skimage import io\n",
        "\n",
        "\n",
        "plt.ion()   # interactive mode"
      ],
      "execution_count": null,
      "outputs": [
        {
          "output_type": "stream",
          "text": [
            "Collecting scikit-plot\n",
            "  Downloading https://files.pythonhosted.org/packages/7c/47/32520e259340c140a4ad27c1b97050dd3254fdc517b1d59974d47037510e/scikit_plot-0.3.7-py3-none-any.whl\n",
            "Requirement already satisfied: matplotlib>=1.4.0 in /usr/local/lib/python3.6/dist-packages (from scikit-plot) (3.2.2)\n",
            "Requirement already satisfied: joblib>=0.10 in /usr/local/lib/python3.6/dist-packages (from scikit-plot) (0.17.0)\n",
            "Requirement already satisfied: scikit-learn>=0.18 in /usr/local/lib/python3.6/dist-packages (from scikit-plot) (0.22.2.post1)\n",
            "Requirement already satisfied: scipy>=0.9 in /usr/local/lib/python3.6/dist-packages (from scikit-plot) (1.4.1)\n",
            "Requirement already satisfied: numpy>=1.11 in /usr/local/lib/python3.6/dist-packages (from matplotlib>=1.4.0->scikit-plot) (1.18.5)\n",
            "Requirement already satisfied: python-dateutil>=2.1 in /usr/local/lib/python3.6/dist-packages (from matplotlib>=1.4.0->scikit-plot) (2.8.1)\n",
            "Requirement already satisfied: cycler>=0.10 in /usr/local/lib/python3.6/dist-packages (from matplotlib>=1.4.0->scikit-plot) (0.10.0)\n",
            "Requirement already satisfied: pyparsing!=2.0.4,!=2.1.2,!=2.1.6,>=2.0.1 in /usr/local/lib/python3.6/dist-packages (from matplotlib>=1.4.0->scikit-plot) (2.4.7)\n",
            "Requirement already satisfied: kiwisolver>=1.0.1 in /usr/local/lib/python3.6/dist-packages (from matplotlib>=1.4.0->scikit-plot) (1.3.1)\n",
            "Requirement already satisfied: six>=1.5 in /usr/local/lib/python3.6/dist-packages (from python-dateutil>=2.1->matplotlib>=1.4.0->scikit-plot) (1.15.0)\n",
            "Installing collected packages: scikit-plot\n",
            "Successfully installed scikit-plot-0.3.7\n"
          ],
          "name": "stdout"
        }
      ]
    },
    {
      "cell_type": "markdown",
      "metadata": {
        "id": "Ori9CPPVJscv"
      },
      "source": [
        "Se monta una cuenta de gmail, no es necesario si esta en un equipo local"
      ]
    },
    {
      "cell_type": "code",
      "metadata": {
        "id": "s13zkpLvXNbO",
        "colab": {
          "base_uri": "https://localhost:8080/"
        },
        "outputId": "10aacea1-a654-4ef4-e558-15d4539f8221"
      },
      "source": [
        "  %cd ..\n",
        "from google.colab import drive\n",
        "drive.mount('/content/gdrive')\n",
        "!ln -s /content/gdrive/My\\ Drive/ /mydrive\n",
        "!ln -s /content/gdrive/Shared\\ drives/Proyecto\\ integrador\\ de\\ tecnologias\\ emergentes/dataSets/ /mydata"
      ],
      "execution_count": null,
      "outputs": [
        {
          "output_type": "stream",
          "text": [
            "/\n",
            "Mounted at /content/gdrive\n"
          ],
          "name": "stdout"
        }
      ]
    },
    {
      "cell_type": "markdown",
      "metadata": {
        "id": "3F1TrXY6J1Iq"
      },
      "source": [
        "Creamos Carpeta data1 y all y dentro de data creamos las carpetas test y train, primero le llamamos data1 porque un zip se llama data, de esta manera no sobre escribimos la carpeta, si se tiene el data set ya intalado, no es necesario llamarla data1  "
      ]
    },
    {
      "cell_type": "code",
      "metadata": {
        "id": "mCxzpW-VY7c1",
        "colab": {
          "base_uri": "https://localhost:8080/"
        },
        "outputId": "53a20b13-24b8-4fa1-ad67-e16981662cfe"
      },
      "source": [
        "%cd /content\n",
        "import os\n",
        "os.mkdir('data1')\n",
        "os.mkdir('all')\n",
        "\n",
        "%cd data1\n",
        "os.mkdir('train')\n",
        "os.mkdir('test')"
      ],
      "execution_count": null,
      "outputs": [
        {
          "output_type": "stream",
          "text": [
            "/content\n",
            "/content/data1\n"
          ],
          "name": "stdout"
        }
      ]
    },
    {
      "cell_type": "markdown",
      "metadata": {
        "id": "8v8rU-cNKSZ3"
      },
      "source": [
        "Copiamos el zip con una parte del dataset"
      ]
    },
    {
      "cell_type": "code",
      "metadata": {
        "id": "3rJfsx4sUWMk"
      },
      "source": [
        "!cp /content/gdrive/Shared\\ drives/Proyecto\\ integrador\\ de\\ tecnologias\\ emergentes/dataSets/data.zip  -d /content\n",
        "#!cp /mydrive/SSD/train.zip -d /content"
      ],
      "execution_count": null,
      "outputs": []
    },
    {
      "cell_type": "markdown",
      "metadata": {
        "id": "W9_sb2aMKW1D"
      },
      "source": [
        "Descromprimimos el zip y sale la carpeta data."
      ]
    },
    {
      "cell_type": "code",
      "metadata": {
        "id": "KEJ6wr-bbztG"
      },
      "source": [
        "%cd /content\n",
        "!unzip data.zip \n",
        "#!unzip train.zip "
      ],
      "execution_count": null,
      "outputs": []
    },
    {
      "cell_type": "markdown",
      "metadata": {
        "id": "A72uR2xPKeqR"
      },
      "source": [
        "Esta funcion normaliza los datos para el data loader"
      ]
    },
    {
      "cell_type": "code",
      "metadata": {
        "id": "KNqnQdDpSFPv"
      },
      "source": [
        "# Data augmentation and normalization for training\n",
        "# Just normalization for validation\n",
        "\n",
        "data_transforms = {\n",
        "    'train': transforms.Compose([\n",
        "        transforms.RandomResizedCrop(224),\n",
        "        transforms.RandomHorizontalFlip(),\n",
        "        transforms.ToTensor(),\n",
        "        transforms.Normalize([0.485, 0.456, 0.406], [0.229, 0.224, 0.225])\n",
        "    ]),\n",
        "    'test': transforms.Compose([\n",
        "        transforms.Resize(256),\n",
        "        transforms.CenterCrop(224),\n",
        "        transforms.ToTensor(),\n",
        "        transforms.Normalize([0.485, 0.456, 0.406], [0.229, 0.224, 0.225])\n",
        "    ]),\n",
        "}"
      ],
      "execution_count": null,
      "outputs": []
    },
    {
      "cell_type": "markdown",
      "metadata": {
        "id": "zW8bFhgnKjeA"
      },
      "source": [
        "Como dije anteriormente la carpeta se llama data1 para no sobre escribirla, aqui renombramos las carpeta, data sera test, data1 sera data"
      ]
    },
    {
      "cell_type": "code",
      "metadata": {
        "id": "sy015fo0ncth"
      },
      "source": [
        "\n",
        "source = '/content/data'\n",
        "dest = '/content/test'\n",
        "os.rename(source, dest) \n",
        "source = '/content/data1'\n",
        "dest = '/content/data'\n",
        "os.rename(source, dest) "
      ],
      "execution_count": null,
      "outputs": []
    },
    {
      "cell_type": "markdown",
      "metadata": {
        "id": "0mlRo7FrHfQU"
      },
      "source": [
        "Extraigo las clases del archivo de classes.txt"
      ]
    },
    {
      "cell_type": "code",
      "metadata": {
        "id": "ho7hqc1KIhkZ",
        "colab": {
          "base_uri": "https://localhost:8080/"
        },
        "outputId": "a8ef901f-9970-444a-ee07-8f1480ae204c"
      },
      "source": [
        "class_names=[]\n",
        "class2=open('/content/gdrive/Shared drives/Proyecto integrador de tecnologias emergentes/dataSets/classes.txt','r')\n",
        "class2=class2.readlines()\n",
        "class2 = [x.strip() for x in class2] \n",
        "for x in class2:\n",
        "  x=x.replace(\" \",\"\")\n",
        "  x=x.replace(\"/\",\"-\")\n",
        "  class_names.append(x)\n"
      ],
      "execution_count": null,
      "outputs": [
        {
          "output_type": "stream",
          "text": [
            "CHAPAPERILV\n"
          ],
          "name": "stdout"
        }
      ]
    },
    {
      "cell_type": "markdown",
      "metadata": {
        "id": "jk7ZjyUjKxJ7"
      },
      "source": [
        "Se crea un directorio por cada clase dentro del archivo txt en las carpetas train, test y all"
      ]
    },
    {
      "cell_type": "code",
      "metadata": {
        "id": "ovt_VCo3kad-"
      },
      "source": [
        "for x in class_names:\n",
        "  x=x.replace(\" \",\"\")\n",
        "  x=x.replace(\"/\",\"-\")\n",
        "  path1=os.path.join('/content/data/train', x)\n",
        "  path2=os.path.join('/content/data/test', x)\n",
        "  path3=os.path.join('/content/all', x)\n",
        "  try:\n",
        "    os.mkdir(path1)\n",
        "    os.mkdir(path2)\n",
        "    os.mkdir(path3)\n",
        "  except OSError as error:\n",
        "    print(x)\n"
      ],
      "execution_count": null,
      "outputs": []
    },
    {
      "cell_type": "markdown",
      "metadata": {
        "id": "G-lpOnz-K6QP"
      },
      "source": [
        "Eliminamos el zip de data para hacer espacio"
      ]
    },
    {
      "cell_type": "code",
      "metadata": {
        "id": "N8f78XY_ooP5"
      },
      "source": [
        "!rm /content/data.zip\n",
        "#!rm /content/data2.zip"
      ],
      "execution_count": null,
      "outputs": []
    },
    {
      "cell_type": "markdown",
      "metadata": {
        "id": "Rn1o0lonK_1P"
      },
      "source": [
        "Normalizamos los archivos txt en los dataset, si uno tiene terminacion .xml.txt se convertira a txt solamente "
      ]
    },
    {
      "cell_type": "code",
      "metadata": {
        "id": "uq_DgEs_vYWV"
      },
      "source": [
        "path_train='/content/gdrive/Shared drives/Proyecto integrador de tecnologias emergentes/dataSets/data3'\n",
        "for filename in os.listdir(path_train):\n",
        "  infilename = os.path.join(path_train,filename)\n",
        "  #print(infilename)\n",
        "  if not os.path.isfile(infilename): continue\n",
        "  oldbase = os.path.splitext(filename)\n",
        "  newname = infilename.replace('.xml.txt', '.txt')\n",
        "  output = os.rename(infilename, newname)\n",
        "\n",
        "path_train='/content/test'\n",
        "for filename in os.listdir(path_train):\n",
        "  infilename = os.path.join(path_train,filename)\n",
        "  if not os.path.isfile(infilename): continue\n",
        "  oldbase = os.path.splitext(filename)\n",
        "  newname = infilename.replace('.xml.txt', '.txt')\n",
        "  output = os.rename(infilename, newname)"
      ],
      "execution_count": null,
      "outputs": []
    },
    {
      "cell_type": "markdown",
      "metadata": {
        "id": "lYFdEg1WLQbR"
      },
      "source": [
        "Esta funcio saca el ancho y largo de una imagen cuando le das el path"
      ]
    },
    {
      "cell_type": "code",
      "metadata": {
        "id": "7jm8Ci3Oqr3Q"
      },
      "source": [
        "def getimage (path):\n",
        "  import cv2\n",
        "  img = cv2.imread(path)\n",
        "  h,w,c=img.shape\n",
        "  return w,h"
      ],
      "execution_count": null,
      "outputs": []
    },
    {
      "cell_type": "markdown",
      "metadata": {
        "id": "AkjLuDchLqTn"
      },
      "source": [
        "Esta funcion te regresa las bounding boxes de una imagen en formato yolo junto con la clase a la que pertenece"
      ]
    },
    {
      "cell_type": "code",
      "metadata": {
        "id": "6z7u3PKGrlJP"
      },
      "source": [
        "def new_img(path,path2):\n",
        "  #print(path)\n",
        "  w,h=getimage(path)\n",
        "  %matplotlib inline\n",
        "  from matplotlib import pyplot as plt\n",
        "  import cv2\n",
        "  bounding_box_info=[]\n",
        "  classes=[]\n",
        "  xabs=[]\n",
        "  yabs=[]\n",
        "  habs=[]\n",
        "  wabs=[]\n",
        "\n",
        "  bounding_box=open(path2,'r')\n",
        "  bounding_box=bounding_box.readlines()\n",
        "  bounding_box = [x.strip() for x in bounding_box] \n",
        "  for x in bounding_box:\n",
        "   x=x.split(' ')\n",
        "   x=list(map(float,x))\n",
        "   bounding_box_info.append(x)\n",
        "  for x in range(len(bounding_box_info)):\n",
        "     if bounding_box_info[x][0] > 44:\n",
        "       bounding_box_info[x][0]=0\n",
        "     classes.append(bounding_box_info[x][0])\n",
        "     xabs.append(bounding_box_info[x][1]*w)\n",
        "     yabs.append(bounding_box_info[x][2]*h)\n",
        "     wabs.append(bounding_box_info[x][3]*w)\n",
        "     habs.append(bounding_box_info[x][4]*h)\n",
        "\n",
        "  return xabs,yabs,wabs,habs,classes\n",
        "       "
      ],
      "execution_count": null,
      "outputs": []
    },
    {
      "cell_type": "markdown",
      "metadata": {
        "id": "h7KuGM1tL-b_"
      },
      "source": [
        "Esta funcion hace el recorte con los valores de las bounding boxes que dio la funcion anterior, y las manda (el recorte) a la carpeta con la etiqueta correspondiente"
      ]
    },
    {
      "cell_type": "code",
      "metadata": {
        "id": "_b9i-aNbM81S"
      },
      "source": [
        "def moveimg(path_from_jpg,path_move,class_names):\n",
        "  %matplotlib inline\n",
        "  from matplotlib import pyplot as plt\n",
        "  import cv2\n",
        "  from pathlib import Path    \n",
        "  path_from_txt=path_from_jpg.replace('.JPG','.txt')\n",
        "  #print(path_from_txt)\n",
        "  xabs,yabs,wabs,habs,classes=new_img(path_from_jpg,path_from_txt)\n",
        "  img=cv2.imread(path_from_jpg)\n",
        "  for x in range(len(xabs)):\n",
        "      x1=round(xabs[x]-(wabs[x]/2))\n",
        "      y1=round(yabs[x]-(habs[x]/2))\n",
        "      x2=round(xabs[x]+(wabs[x]/2))\n",
        "      y2=round(yabs[x]+(habs[x]/2))\n",
        "      img2=img[y1:y2,x1:x2]\n",
        "      c=class_names[int(classes[x])]\n",
        "      new_path=os.path.join(path_move,c)\n",
        "      name=Path(path_from_jpg).name\n",
        "      y=random.randint(0,1000)\n",
        "      name=str(x)+str(y)+name\n",
        "      new_path=os.path.join(new_path,name)\n",
        "      cv2.imwrite(new_path,img2)\n"
      ],
      "execution_count": null,
      "outputs": []
    },
    {
      "cell_type": "markdown",
      "metadata": {
        "id": "QEArH9ISMd8e"
      },
      "source": [
        "Para evitar que crashe el codigo, esta funcion comprueba que el archivo jpg contenga su reciproco en txt. "
      ]
    },
    {
      "cell_type": "code",
      "metadata": {
        "id": "c9EYcxL7xiNS"
      },
      "source": [
        "def checkFileExistance(filePath):\n",
        "    try:\n",
        "        with open(filePath, 'r') as f:\n",
        "            return True\n",
        "    except FileNotFoundError as e:\n",
        "        return False\n",
        "    except IOError as e:\n",
        "        return False"
      ],
      "execution_count": null,
      "outputs": []
    },
    {
      "cell_type": "markdown",
      "metadata": {
        "id": "pZcelxEWMW2k"
      },
      "source": [
        "Las funciones anteriores entran en accion, nos metemos al la carpeta 3 que es donde se encuentran las etiquetas con su respectivas anotaciones e imagenes, iteramos entre todas y se hacen los recortes correspondientes, si se cumplen las funciones como que el archivo exista, ademas se crea la direccion correspondiente al archivo txt, el archivo txt debe tener el mismo nombre de la imagen"
      ]
    },
    {
      "cell_type": "code",
      "metadata": {
        "id": "TEoqlxMYRMA8"
      },
      "source": [
        "path_move='/content/all'\n",
        "path_from='/content/gdrive/Shared drives/Proyecto integrador de tecnologias emergentes/dataSets/data3'\n",
        "for filename in os.listdir(path_from):\n",
        "  path_from_jpg=os.path.join(path_from, str (filename))\n",
        "  path_from_txt1=path_from_jpg.replace('.JPG','.txt')\n",
        "  txt_exist=checkFileExistance(path_from_txt1)\n",
        "  if txt_exist and filename.endswith(\".JPG\") or filename.endswith(\".jpg\") :\n",
        "    moveimg(path_from_jpg,path_move,class_names)\n",
        "\n",
        "path_move2='/content/all'\n",
        "path_from='/content/test'\n",
        "for filename in os.listdir(path_from):\n",
        "  path_from_jpg=os.path.join(path_from, str (filename))\n",
        "  path_from_txt1=path_from_jpg.replace('.JPG','.txt')\n",
        "  txt_exist=checkFileExistance(path_from_txt1)\n",
        "  if txt_exist and filename.endswith(\".JPG\") or filename.endswith(\".jpg\"):\n",
        "    moveimg(path_from_jpg,path_move2,class_names)"
      ],
      "execution_count": null,
      "outputs": []
    },
    {
      "cell_type": "markdown",
      "metadata": {
        "id": "7H-8lWNEM7m4"
      },
      "source": [
        "De la carpeta all, eliminamos todas las carpetas que no tengan imagenes adentro"
      ]
    },
    {
      "cell_type": "code",
      "metadata": {
        "id": "ua6ef26Fcbuk"
      },
      "source": [
        "path_move='/content/all'\n",
        "\n",
        "root = path_move\n",
        "folders = list(os.walk(root))[1:]\n",
        "\n",
        "for folder in folders:\n",
        "    # folder example: ('FOLDER/3', [], ['file'])\n",
        "    if not folder[2]:\n",
        "        os.rmdir(folder[0])"
      ],
      "execution_count": null,
      "outputs": []
    },
    {
      "cell_type": "markdown",
      "metadata": {
        "id": "GwDP_9UKNBzt"
      },
      "source": [
        "Funcion para realizar data augmentation, se le da un resize ala imagen que pase por aqui, si vuelve a pasar se le da vueltas si vuelve a pasar cambia la iluminacion si vuelve a pasar se le cambia el color y si vuelve a pasar se aplica un blur"
      ]
    },
    {
      "cell_type": "code",
      "metadata": {
        "id": "2fAeFPnVKiCx"
      },
      "source": [
        "def data_aug(path,filename,x):\n",
        "  path_read=os.path.join(path, str (filename))\n",
        "  #print(path_read)\n",
        "  image=cv2.imread(path_read)\n",
        "  w=random.randint(50,250)\n",
        "  h=random.randint(50,250)\n",
        "  if x==0:\n",
        "    #Resize\n",
        "    image=cv2.resize(image,(w,h))\n",
        "    name='r_'+str(filename)\n",
        "    path_save=os.path.join(path, str (name))\n",
        "    cv2.imwrite(path_save,image)\n",
        "  if x==1:\n",
        "    #flip\n",
        "    image=cv2.flip(image, 2)\n",
        "    name='f_'+str(filename)\n",
        "    path_save=os.path.join(path, str (name))\n",
        "    cv2.imwrite(path_save,image)\n",
        "  if x==2:\n",
        "    #light\n",
        "    invGamma = 1.0 / 2\n",
        "    table = np.array([((i / 255.0) ** invGamma) * 255\n",
        "                      for i in np.arange(0, 256)]).astype(\"uint8\")\n",
        "    image2=cv2.LUT(image, table)\n",
        "    name='l_'+str(filename)\n",
        "    path_save=os.path.join(path, str (name))\n",
        "    cv2.imwrite(path_save,image2)\n",
        "  if x==3:\n",
        "    #Change color\n",
        "    image = cv2.cvtColor(image, cv2.COLOR_RGB2BGR)\n",
        "    name='bgr_'+str(filename)\n",
        "    path_save=os.path.join(path, str (name))\n",
        "    cv2.imwrite(path_save,image)\n",
        "  if x==4:\n",
        "    #BLUR\n",
        "    kernel = np.ones((5,5),np.float32)/40\n",
        "    image = cv2.filter2D(image,-1,kernel)\n",
        "    name='blur_'+str(filename)\n",
        "    path_save=os.path.join(path, str (name))\n",
        "    cv2.imwrite(path_save,image)"
      ],
      "execution_count": null,
      "outputs": []
    },
    {
      "cell_type": "markdown",
      "metadata": {
        "id": "f4fYAYhUNaO6"
      },
      "source": [
        "Pasamos el 80% de las imagenes de la carpeta all a train y el 20% a test siempre y cuando haya un minimo de 500 imagenes . La variable test batch mide esto\n",
        "100/.2 = 500 por lo tanto test_batch debe de ser mayor a 100.\n",
        "\n",
        "\n",
        "500= 100% ----> ?=20%"
      ]
    },
    {
      "cell_type": "code",
      "metadata": {
        "id": "1Oatr0gcxQ6e"
      },
      "source": [
        "import shutil, sys  \n",
        "path_move='/content/all'\n",
        "for dir in os.listdir(path_move):\n",
        "  x=0\n",
        "  #print(dir)\n",
        "  new_path=os.path.join(path_move, str (dir))\n",
        "  #print(new_path)\n",
        "  if dir.endswith('.JPG'):\n",
        "    os.remove(new_path)\n",
        "  else:\n",
        "    for files in os.listdir(new_path):\n",
        "      number= sum(1 for files in os.listdir(new_path))\n",
        "      #print(number)\n",
        "      test_batch=round(number*.2)\n",
        "      if test_batch>100:\n",
        "        new_path2=os.path.join(new_path, str (files))\n",
        "        goto_path=os.path.join('/content/data/test',str(dir))\n",
        "        goto_path=os.path.join(goto_path,str(files))\n",
        "        if x<= test_batch:\n",
        "          shutil.copy2(str(new_path2),str(goto_path))\n",
        "          x=x+1\n",
        "        else:\n",
        "          goto_path=os.path.join('/content/data/train',str(dir))\n",
        "          goto_path=os.path.join(goto_path,str(files))\n",
        "          shutil.copy2(str(new_path2),str(goto_path))"
      ],
      "execution_count": null,
      "outputs": []
    },
    {
      "cell_type": "code",
      "metadata": {
        "id": "IZhRSZNScLCD"
      },
      "source": [
        "path_move='/content/data/train'\n",
        "path_move2='/content/data/test'\n",
        "\n",
        "root = path_move\n",
        "folders = list(os.walk(root))[1:]\n",
        "\n",
        "for folder in folders:\n",
        "    # folder example: ('FOLDER/3', [], ['file'])\n",
        "    if not folder[2]:\n",
        "        os.rmdir(folder[0])\n",
        "\n",
        "root = path_move2\n",
        "folders = list(os.walk(root))[1:]\n",
        "\n",
        "for folder in folders:\n",
        "    # folder example: ('FOLDER/3', [], ['file'])\n",
        "    if not folder[2]:\n",
        "        os.rmdir(folder[0])"
      ],
      "execution_count": null,
      "outputs": []
    },
    {
      "cell_type": "markdown",
      "metadata": {
        "id": "tYkFGA32m7oQ"
      },
      "source": [
        "DATA AUGMENTATION\n",
        "\n",
        "Esta primera funcion nos muestra la distribucion en cuanto a la cantidad de datos"
      ]
    },
    {
      "cell_type": "code",
      "metadata": {
        "id": "oeU5oBr0m_KW",
        "colab": {
          "base_uri": "https://localhost:8080/"
        },
        "outputId": "25780111-2429-4660-c41e-7e1ad40b9445"
      },
      "source": [
        "path_check='/content/data/train'\n",
        "val1=0\n",
        "for files in os.listdir(path_check):\n",
        "  new_path=os.path.join(path_check, str (files))\n",
        "  print(files)\n",
        "  val2=len(os.listdir(new_path))\n",
        "  print(val2)\n",
        "  if val1<val2:\n",
        "    val1=val2\n",
        "    dir=files\n",
        "print(val1)\n",
        "\n",
        "print(\"Test\")\n",
        "path_check='/content/data/test'\n",
        "val1_1=0\n",
        "for files in os.listdir(path_check):\n",
        "  new_path=os.path.join(path_check, str (files))\n",
        "  print(files)\n",
        "  val2_2=len(os.listdir(new_path))\n",
        "  print(val2_2)\n",
        "  if val1_1<val2_2:\n",
        "    val1_1=val2_2\n",
        "    dir2=files\n",
        "print(val1_1)"
      ],
      "execution_count": null,
      "outputs": [
        {
          "output_type": "stream",
          "text": [
            "MADERA\n",
            "979\n",
            "OXIDO\n",
            "625\n",
            "CHAPASUELTA-LAMINASUELTA\n",
            "465\n",
            "CABLES\n",
            "1574\n",
            "CUERDA\n",
            "1308\n",
            "TUBO\n",
            "403\n",
            "AGLOMERACIÓNBASURA\n",
            "501\n",
            "1574\n",
            "Test\n",
            "MADERA\n",
            "246\n",
            "OXIDO\n",
            "158\n",
            "CHAPASUELTA-LAMINASUELTA\n",
            "118\n",
            "CABLES\n",
            "395\n",
            "CUERDA\n",
            "328\n",
            "TUBO\n",
            "102\n",
            "AGLOMERACIÓNBASURA\n",
            "127\n",
            "395\n"
          ],
          "name": "stdout"
        }
      ]
    },
    {
      "cell_type": "markdown",
      "metadata": {
        "id": "eYJ-mRPjOY19"
      },
      "source": [
        "Aqui comamos la carpeta con mas datos y tomamos su cantidad como referencia, posteriormente iremos iterando entre cada imagen aplicando data augmentation hasta que el numero llegue a la misma cantidad de datos que la carpeta de referencia. Se aplica para test y train"
      ]
    },
    {
      "cell_type": "code",
      "metadata": {
        "id": "vY_N6r5FTNJx"
      },
      "source": [
        "path_check='/content/data/train'\n",
        "for files in os.listdir(path_check):\n",
        "  new_path=os.path.join(path_check, str (files))\n",
        "  x=0\n",
        "  for images in os.listdir(new_path):\n",
        "    while x<6:\n",
        "      data_aug(new_path,images,x)\n",
        "      x=x+1\n",
        "    amount=len(os.listdir(new_path))\n",
        "    x=0\n",
        "    if amount>=val1:\n",
        "      break\n",
        "\n",
        "path_check='/content/data/test'\n",
        "for files in os.listdir(path_check):\n",
        "  new_path=os.path.join(path_check, str (files))\n",
        "  x=0\n",
        "  for images in os.listdir(new_path):\n",
        "    while x<6:\n",
        "      data_aug(new_path,images,x)\n",
        "      x=x+1\n",
        "    x=0\n",
        "    amount=len(os.listdir(new_path))\n",
        "    if amount>=val1_1:\n",
        "      break"
      ],
      "execution_count": null,
      "outputs": []
    },
    {
      "cell_type": "markdown",
      "metadata": {
        "id": "S3z-lhDuO1dW"
      },
      "source": [
        "Volvemos a checar la distribucion de datos post-data augmentation"
      ]
    },
    {
      "cell_type": "code",
      "metadata": {
        "id": "OGeT4OD9W_0S",
        "colab": {
          "base_uri": "https://localhost:8080/"
        },
        "outputId": "59a8a2cd-fb5e-4525-9d34-7d7c755a734d"
      },
      "source": [
        "path_check='/content/data/train'\n",
        "val1=0\n",
        "for files in os.listdir(path_check):\n",
        "  new_path=os.path.join(path_check, str (files))\n",
        "  print(files)\n",
        "  val2=len(os.listdir(new_path))\n",
        "  print(val2)\n",
        "  if val1<val2:\n",
        "    val1=val2\n",
        "    dir=files\n",
        "\n",
        "print(\"Test\")\n",
        "path_check='/content/data/test'\n",
        "val1_1=0\n",
        "for files in os.listdir(path_check):\n",
        "  new_path=os.path.join(path_check, str (files))\n",
        "  print(files)\n",
        "  val2_2=len(os.listdir(new_path))\n",
        "  print(val2_2)\n",
        "  if val1_1<val2_2:\n",
        "    val1_1=val2_2\n",
        "    dir2=files\n"
      ],
      "execution_count": null,
      "outputs": [
        {
          "output_type": "stream",
          "text": [
            "MADERA\n",
            "1574\n",
            "OXIDO\n",
            "1575\n",
            "CHAPASUELTA-LAMINASUELTA\n",
            "1575\n",
            "CABLES\n",
            "1579\n",
            "CUERDA\n",
            "1578\n",
            "TUBO\n",
            "1578\n",
            "AGLOMERACIÓNBASURA\n",
            "1576\n",
            "Test\n",
            "MADERA\n",
            "396\n",
            "OXIDO\n",
            "398\n",
            "CHAPASUELTA-LAMINASUELTA\n",
            "398\n",
            "CABLES\n",
            "400\n",
            "CUERDA\n",
            "398\n",
            "TUBO\n",
            "397\n",
            "AGLOMERACIÓNBASURA\n",
            "397\n"
          ],
          "name": "stdout"
        }
      ]
    },
    {
      "cell_type": "markdown",
      "metadata": {
        "id": "qVqrFbb9O6ig"
      },
      "source": [
        "Se cargan los datos a los data-loaders para aplicar entrenamiento. Ademas se crean la nueva cantidad de clases y se ponen en un archivo txt"
      ]
    },
    {
      "cell_type": "code",
      "metadata": {
        "id": "6d9diJXCd2C6",
        "colab": {
          "base_uri": "https://localhost:8080/"
        },
        "outputId": "3a87fb2f-d5b0-4e3a-d9b8-5fbfbf7f693a"
      },
      "source": [
        "data_dir = '/content/data'\n",
        "classes=''\n",
        "image_datasets = {x: datasets.ImageFolder(os.path.join(data_dir, x),\n",
        "                                          data_transforms[x])\n",
        "                  for x in ['train', 'test']}\n",
        "dataloaders = {x: torch.utils.data.DataLoader(image_datasets[x], batch_size=4,\n",
        "                                             shuffle=True, num_workers=4)\n",
        "              for x in  ['train', 'test']}\n",
        "dataset_sizes = {x: len(image_datasets[x]) for x in  ['train', 'test']}\n",
        "class_names = image_datasets['train'].classes\n",
        "for i in class_names:\n",
        "  classes=classes + '\\n'+i\n",
        "f= open(\"/mydrive/SSD/class_names2.txt\",\"w\")\n",
        "f=f.write(classes)\n",
        "print(class_names)\n",
        "device = torch.device(\"cuda:0\" if torch.cuda.is_available() else \"cpu\")"
      ],
      "execution_count": null,
      "outputs": [
        {
          "output_type": "stream",
          "text": [
            "['AGLOMERACIÓNBASURA', 'CABLES', 'CHAPASUELTA-LAMINASUELTA', 'CUERDA', 'MADERA', 'OXIDO', 'TUBO']\n"
          ],
          "name": "stdout"
        }
      ]
    },
    {
      "cell_type": "code",
      "metadata": {
        "id": "TLEn2Td4yJGz",
        "colab": {
          "base_uri": "https://localhost:8080/"
        },
        "outputId": "e70081ac-0a9e-4faa-ff83-a04825ab87d2"
      },
      "source": [
        "print(dataset_sizes)"
      ],
      "execution_count": null,
      "outputs": [
        {
          "output_type": "stream",
          "text": [
            "{'train': 11035, 'test': 2784}\n"
          ],
          "name": "stdout"
        }
      ]
    },
    {
      "cell_type": "markdown",
      "metadata": {
        "id": "-bu_5tnOPKDG"
      },
      "source": [
        "Funcion para visualizar imagenes de los data loaders y sus etiquetas"
      ]
    },
    {
      "cell_type": "code",
      "metadata": {
        "id": "wq8GVDnxSFPy",
        "colab": {
          "base_uri": "https://localhost:8080/",
          "height": 148
        },
        "outputId": "e34016ad-b3eb-4496-c2ac-fc3d558e73d4"
      },
      "source": [
        "def imshow(inp, title=None):\n",
        "    \"\"\"Imshow for Tensor.\"\"\"\n",
        "    inp = inp.numpy().transpose((1, 2, 0))\n",
        "    mean = np.array([0.485, 0.456, 0.406])\n",
        "    std = np.array([0.229, 0.224, 0.225])\n",
        "    inp = std * inp + mean\n",
        "    inp = np.clip(inp, 0, 1)\n",
        "    plt.imshow(inp)\n",
        "    if title is not None:\n",
        "        plt.title(title)\n",
        "    plt.pause(0.001)  # pause a bit so that plots are updated\n",
        "\n",
        "\n",
        "# Get a batch of training data\n",
        "inputs, classes = next(iter(dataloaders['train']))\n",
        "\n",
        "# Make a grid from batch\n",
        "out = torchvision.utils.make_grid(inputs)\n",
        "\n",
        "imshow(out, title=[class_names[x] for x in classes])"
      ],
      "execution_count": null,
      "outputs": [
        {
          "output_type": "display_data",
          "data": {
            "image/png": "[encoded data removed]",
            "text/plain": [
              "<Figure size 432x288 with 1 Axes>"
            ]
          },
          "metadata": {
            "tags": [],
            "needs_background": "light"
          }
        }
      ]
    },
    {
      "cell_type": "markdown",
      "metadata": {
        "id": "kxiH_qSpPWH-"
      },
      "source": [
        "Funcion ara entrenar el modelo"
      ]
    },
    {
      "cell_type": "code",
      "metadata": {
        "id": "oQUYFMPxSFP1"
      },
      "source": [
        "def train_model(model, criterion, optimizer, scheduler, num_epochs=25):\n",
        "    since = time.time()\n",
        "\n",
        "    best_model_wts = copy.deepcopy(model.state_dict())\n",
        "    best_acc = 0.0\n",
        "\n",
        "    for epoch in range(num_epochs):\n",
        "        print('Epoch {}/{}'.format(epoch, num_epochs - 1))\n",
        "        print('-' * 10)\n",
        "\n",
        "        # Each epoch has a training and validation phase\n",
        "        for phase in ['train', 'test']:\n",
        "            if phase == 'train':\n",
        "                model.train()  # Set model to training mode\n",
        "            else:\n",
        "                model.eval()   # Set model to evaluate mode\n",
        "\n",
        "            running_loss = 0.0\n",
        "            running_corrects = 0\n",
        "\n",
        "            # Iterate over data.\n",
        "            for inputs, labels in dataloaders[phase]:\n",
        "                inputs = inputs.to(device)\n",
        "                labels = labels.to(device)\n",
        "\n",
        "                # zero the parameter gradients\n",
        "                optimizer.zero_grad()\n",
        "\n",
        "                # forward\n",
        "                # track history if only in train\n",
        "                with torch.set_grad_enabled(phase == 'train'):\n",
        "                    outputs = model(inputs)\n",
        "                    \n",
        "                    _, preds = torch.max(outputs, 1)\n",
        "                    loss = criterion(outputs, labels)\n",
        "\n",
        "                    # backward + optimize only if in training phase\n",
        "                    if phase == 'train':\n",
        "                        loss.backward()\n",
        "                        optimizer.step()\n",
        "\n",
        "                # statistics\n",
        "                running_loss += loss.item() * inputs.size(0)\n",
        "                running_corrects += torch.sum(preds == labels.data)\n",
        "            if phase == 'train':\n",
        "                scheduler.step()\n",
        "\n",
        "            epoch_loss = running_loss / dataset_sizes[phase]\n",
        "            epoch_acc = running_corrects.double() / dataset_sizes[phase]\n",
        "\n",
        "            print('{} Loss: {:.4f} Acc: {:.4f}'.format(\n",
        "                phase, epoch_loss, epoch_acc))\n",
        "\n",
        "            # deep copy the model\n",
        "            if phase == 'test' and epoch_acc > best_acc:\n",
        "                best_acc = epoch_acc\n",
        "                best_model_wts = copy.deepcopy(model.state_dict())\n",
        "\n",
        "\n",
        "    time_elapsed = time.time() - since\n",
        "    print('Training complete in {:.0f}m {:.0f}s'.format(\n",
        "        time_elapsed // 60, time_elapsed % 60))\n",
        "    print('Best val Acc: {:4f}'.format(best_acc))\n",
        "\n",
        "    # load best model weights\n",
        "    model.load_state_dict(best_model_wts)\n",
        "    return model"
      ],
      "execution_count": null,
      "outputs": []
    },
    {
      "cell_type": "markdown",
      "metadata": {
        "id": "UrhoyF9RSFP6"
      },
      "source": [
        "Finetuning\n",
        "\n",
        "Cargamos un modelo preentrenado y reseteamos las ultimas capas que haces las inferencias.\n"
      ]
    },
    {
      "cell_type": "code",
      "metadata": {
        "id": "w7GiXcW9SFP6",
        "colab": {
          "base_uri": "https://localhost:8080/",
          "height": 103,
          "referenced_widgets": [
            "6937654684a34f7283247381e581e56f",
            "3511cb884cdd48af833f61d81e9fa78b",
            "5410382022ee4272a16b71d69ab9388a",
            "d0f03bd2fe3a4f6aacbb131d48fd774f",
            "bff8556b39784b339ae4f78f628e102d",
            "54840823a9bc493f867c1f672e05c548",
            "82da9b9db7af4f0087935a6014061b41",
            "21b7dcc6e5294a8997a2e4148c6a3187"
          ]
        },
        "outputId": "d847108c-af44-46a0-d5af-a47dbc912df0"
      },
      "source": [
        "model_ft = models.resnet101(pretrained=True)\n",
        "num_ftrs = model_ft.fc.in_features\n",
        "# Here the size of each output sample is set to 2.\n",
        "# Alternatively, it can be generalized to nn.Linear(num_ftrs, len(class_names)).\n",
        "model_ft.fc = nn.Linear(num_ftrs, len(class_names))\n",
        "\n",
        "model_ft = model_ft.to(device)\n",
        "\n",
        "criterion = nn.CrossEntropyLoss()\n",
        "\n",
        "# Observe that all parameters are being optimized\n",
        "optimizer_ft = optim.SGD(model_ft.parameters(), lr=0.001, momentum=0.9)\n",
        "\n",
        "# Decay LR by a factor of 0.1 every 7 epochs\n",
        "exp_lr_scheduler = lr_scheduler.StepLR(optimizer_ft, step_size=7, gamma=0.1)"
      ],
      "execution_count": null,
      "outputs": [
        {
          "output_type": "stream",
          "text": [
            "Downloading: \"https://download.pytorch.org/models/resnet101-5d3b4d8f.pth\" to /root/.cache/torch/hub/checkpoints/resnet101-5d3b4d8f.pth\n"
          ],
          "name": "stderr"
        },
        {
          "output_type": "display_data",
          "data": {
            "application/vnd.jupyter.widget-view+json": {
              "model_id": "6937654684a34f7283247381e581e56f",
              "version_minor": 0,
              "version_major": 2
            },
            "text/plain": [
              "HBox(children=(FloatProgress(value=0.0, max=178728960.0), HTML(value='')))"
            ]
          },
          "metadata": {
            "tags": []
          }
        },
        {
          "output_type": "stream",
          "text": [
            "\n"
          ],
          "name": "stdout"
        }
      ]
    },
    {
      "cell_type": "markdown",
      "metadata": {
        "id": "AhfkSkQZPhqA"
      },
      "source": [
        "Entrenamos por primera ver el modelo y guardamos el resultado"
      ]
    },
    {
      "cell_type": "code",
      "metadata": {
        "id": "HzmrgbfGSFP9",
        "colab": {
          "base_uri": "https://localhost:8080/"
        },
        "outputId": "3af18b96-7fd5-490a-989f-5fdccc85f9cf"
      },
      "source": [
        "model_ft = train_model(model_ft, criterion, optimizer_ft, exp_lr_scheduler,num_epochs=25)\n",
        "torch.save(model_ft,'/mydrive/SSD/model_resnet_train.pth')"
      ],
      "execution_count": null,
      "outputs": [
        {
          "output_type": "stream",
          "text": [
            "Epoch 0/24\n",
            "----------\n",
            "train Loss: 1.4748 Acc: 0.4765\n",
            "test Loss: 1.0795 Acc: 0.6545\n",
            "Epoch 1/24\n",
            "----------\n",
            "train Loss: 1.0333 Acc: 0.6343\n",
            "test Loss: 0.7881 Acc: 0.7478\n",
            "Epoch 2/24\n",
            "----------\n",
            "train Loss: 0.8540 Acc: 0.6980\n",
            "test Loss: 0.7689 Acc: 0.7687\n",
            "Epoch 3/24\n",
            "----------\n",
            "train Loss: 0.7511 Acc: 0.7358\n",
            "test Loss: 0.8374 Acc: 0.7676\n",
            "Epoch 4/24\n",
            "----------\n",
            "train Loss: 0.7048 Acc: 0.7525\n",
            "test Loss: 0.6435 Acc: 0.8006\n",
            "Epoch 5/24\n",
            "----------\n",
            "train Loss: 0.6150 Acc: 0.7818\n",
            "test Loss: 0.8944 Acc: 0.7694\n",
            "Epoch 6/24\n",
            "----------\n",
            "train Loss: 0.5775 Acc: 0.8005\n",
            "test Loss: 0.8694 Acc: 0.8139\n",
            "Epoch 7/24\n",
            "----------\n",
            "train Loss: 0.4378 Acc: 0.8478\n",
            "test Loss: 0.5298 Acc: 0.8567\n",
            "Epoch 8/24\n",
            "----------\n",
            "train Loss: 0.3829 Acc: 0.8681\n",
            "test Loss: 0.5376 Acc: 0.8635\n",
            "Epoch 9/24\n",
            "----------\n",
            "train Loss: 0.3731 Acc: 0.8753\n",
            "test Loss: 0.5795 Acc: 0.8524\n",
            "Epoch 10/24\n",
            "----------\n",
            "train Loss: 0.3527 Acc: 0.8807\n",
            "test Loss: 0.4720 Acc: 0.8664\n",
            "Epoch 11/24\n",
            "----------\n",
            "train Loss: 0.3392 Acc: 0.8835\n",
            "test Loss: 0.5549 Acc: 0.8628\n",
            "Epoch 12/24\n",
            "----------\n",
            "train Loss: 0.3159 Acc: 0.8912\n",
            "test Loss: 0.5851 Acc: 0.8664\n",
            "Epoch 13/24\n",
            "----------\n",
            "train Loss: 0.3123 Acc: 0.8924\n",
            "test Loss: 0.5254 Acc: 0.8736\n",
            "Epoch 14/24\n",
            "----------\n",
            "train Loss: 0.2934 Acc: 0.9007\n",
            "test Loss: 0.5789 Acc: 0.8660\n",
            "Epoch 15/24\n",
            "----------\n",
            "train Loss: 0.2814 Acc: 0.9054\n",
            "test Loss: 0.6296 Acc: 0.8606\n",
            "Epoch 16/24\n",
            "----------\n",
            "train Loss: 0.2935 Acc: 0.9005\n",
            "test Loss: 0.4980 Acc: 0.8746\n",
            "Epoch 17/24\n",
            "----------\n",
            "train Loss: 0.2841 Acc: 0.9057\n",
            "test Loss: 0.7861 Acc: 0.8438\n",
            "Epoch 18/24\n",
            "----------\n",
            "train Loss: 0.2868 Acc: 0.9055\n",
            "test Loss: 0.5360 Acc: 0.8732\n",
            "Epoch 19/24\n",
            "----------\n",
            "train Loss: 0.2930 Acc: 0.9011\n",
            "test Loss: 0.5602 Acc: 0.8675\n",
            "Epoch 20/24\n",
            "----------\n",
            "train Loss: 0.2869 Acc: 0.9035\n",
            "test Loss: 0.4588 Acc: 0.8739\n",
            "Epoch 21/24\n",
            "----------\n",
            "train Loss: 0.2814 Acc: 0.9062\n",
            "test Loss: 0.5284 Acc: 0.8728\n",
            "Epoch 22/24\n",
            "----------\n",
            "train Loss: 0.2881 Acc: 0.9040\n",
            "test Loss: 0.6299 Acc: 0.8585\n",
            "Epoch 23/24\n",
            "----------\n",
            "train Loss: 0.2879 Acc: 0.9023\n",
            "test Loss: 0.5655 Acc: 0.8696\n",
            "Epoch 24/24\n",
            "----------\n",
            "train Loss: 0.2823 Acc: 0.9032\n",
            "test Loss: 0.5144 Acc: 0.8739\n",
            "Training complete in 129m 16s\n",
            "Best val Acc: 0.874641\n"
          ],
          "name": "stdout"
        }
      ]
    },
    {
      "cell_type": "markdown",
      "metadata": {
        "id": "CirCAPg5PobM"
      },
      "source": [
        "Funcion para visualizar los resultados"
      ]
    },
    {
      "cell_type": "code",
      "metadata": {
        "id": "YllJDEIfI2Gn"
      },
      "source": [
        "def visualize_model(model, num_images=6):\n",
        "    was_training = model.training\n",
        "    model.eval()\n",
        "    images_so_far = 0\n",
        "    fig = plt.figure()\n",
        "\n",
        "    with torch.no_grad():\n",
        "        for i, (inputs, labels) in enumerate(dataloaders['test']):\n",
        "            inputs = inputs.to(device)\n",
        "            labels = labels.to(device)\n",
        "\n",
        "            outputs = model(inputs)\n",
        "            _, preds = torch.max(outputs, 1)\n",
        "\n",
        "            for j in range(inputs.size()[0]):\n",
        "                images_so_far += 1\n",
        "                ax = plt.subplot(num_images//2, 2, images_so_far)\n",
        "                ax.axis('off')\n",
        "                ax.set_title('predicted: {}'.format(class_names[preds[j]]))\n",
        "                imshow(inputs.cpu().data[j])\n",
        "\n",
        "                if images_so_far == num_images:\n",
        "                    model.train(mode=was_training)\n",
        "                    return\n",
        "        model.train(mode=was_training)"
      ],
      "execution_count": null,
      "outputs": []
    },
    {
      "cell_type": "code",
      "metadata": {
        "id": "4M47t8C3SFP_",
        "colab": {
          "base_uri": "https://localhost:8080/",
          "height": 581
        },
        "outputId": "135f8db4-acf3-498c-cc92-c2baa9a007e9"
      },
      "source": [
        "visualize_model(model_ft)"
      ],
      "execution_count": null,
      "outputs": [
        {
          "output_type": "display_data",
          "data": {
            "image/png": "[encoded data removed]",
            "text/plain": [
              "<Figure size 432x288 with 1 Axes>"
            ]
          },
          "metadata": {
            "tags": [],
            "needs_background": "light"
          }
        },
        {
          "output_type": "display_data",
          "data": {
            "image/png": "[encoded data removed]",
            "text/plain": [
              "<Figure size 432x288 with 1 Axes>"
            ]
          },
          "metadata": {
            "tags": [],
            "needs_background": "light"
          }
        },
        {
          "output_type": "display_data",
          "data": {
            "image/png": "[encoded data removed]",
            "text/plain": [
              "<Figure size 432x288 with 1 Axes>"
            ]
          },
          "metadata": {
            "tags": [],
            "needs_background": "light"
          }
        },
        {
          "output_type": "display_data",
          "data": {
            "image/png": "[encoded data removed]",
            "text/plain": [
              "<Figure size 432x288 with 1 Axes>"
            ]
          },
          "metadata": {
            "tags": [],
            "needs_background": "light"
          }
        },
        {
          "output_type": "display_data",
          "data": {
            "image/png": "[encoded data removed]",
            "text/plain": [
              "<Figure size 432x288 with 1 Axes>"
            ]
          },
          "metadata": {
            "tags": [],
            "needs_background": "light"
          }
        },
        {
          "output_type": "display_data",
          "data": {
            "image/png": "[encoded data removed]",
            "text/plain": [
              "<Figure size 432x288 with 1 Axes>"
            ]
          },
          "metadata": {
            "tags": [],
            "needs_background": "light"
          }
        }
      ]
    },
    {
      "cell_type": "markdown",
      "metadata": {
        "id": "DDlXPk69SFQB"
      },
      "source": [
        "ConvNet as fixed feature extractor\n",
        "----------------------------------\n",
        "\n",
        "Here, we need to freeze all the network except the final layer. We need\n",
        "to set ``requires_grad == False`` to freeze the parameters so that the\n",
        "gradients are not computed in ``backward()``.\n",
        "\n",
        "\n",
        "\n",
        "\n"
      ]
    },
    {
      "cell_type": "code",
      "metadata": {
        "id": "7WGFZDPySFQC"
      },
      "source": [
        "model_conv = model_ft.to(device)\n",
        "for param in model_conv.parameters():\n",
        "    param.requires_grad = False\n",
        "\n",
        "# Parameters of newly constructed modules have requires_grad=True by default\n",
        "num_ftrs = model_conv.fc.in_features\n",
        "model_conv.fc = nn.Linear(num_ftrs, len(class_names))\n",
        "\n",
        "model_conv = model_conv.to(device)\n",
        "\n",
        "criterion = nn.CrossEntropyLoss()\n",
        "\n",
        "# Observe that only parameters of final layer are being optimized as\n",
        "# opposed to before.\n",
        "optimizer_conv = optim.SGD(model_conv.fc.parameters(), lr=0.001, momentum=0.9)\n",
        "\n",
        "# Decay LR by a factor of 0.1 every 7 epochs\n",
        "exp_lr_scheduler = lr_scheduler.StepLR(optimizer_conv, step_size=7, gamma=0.1)"
      ],
      "execution_count": null,
      "outputs": []
    },
    {
      "cell_type": "code",
      "metadata": {
        "id": "RcPi-BiVSFQE",
        "colab": {
          "base_uri": "https://localhost:8080/"
        },
        "outputId": "62b1f006-4736-455d-c784-6c2125e6729d"
      },
      "source": [
        "model_conv = train_model(model_conv, criterion, optimizer_conv,\n",
        "                         exp_lr_scheduler, num_epochs=25)\n",
        "torch.save(model_conv,'/mydrive/SSD/model_resnet.pth')"
      ],
      "execution_count": null,
      "outputs": [
        {
          "output_type": "stream",
          "text": [
            "Epoch 0/24\n",
            "----------\n",
            "train Loss: 0.4351 Acc: 0.8745\n",
            "test Loss: 0.4630 Acc: 0.8750\n",
            "Epoch 1/24\n",
            "----------\n",
            "train Loss: 0.3165 Acc: 0.8942\n",
            "test Loss: 0.5203 Acc: 0.8682\n",
            "Epoch 2/24\n",
            "----------\n",
            "train Loss: 0.3170 Acc: 0.8936\n",
            "test Loss: 0.5853 Acc: 0.8639\n",
            "Epoch 3/24\n",
            "----------\n",
            "train Loss: 0.3075 Acc: 0.8932\n",
            "test Loss: 0.5373 Acc: 0.8743\n",
            "Epoch 4/24\n",
            "----------\n",
            "train Loss: 0.3033 Acc: 0.8957\n",
            "test Loss: 0.5612 Acc: 0.8732\n",
            "Epoch 5/24\n",
            "----------\n",
            "train Loss: 0.2997 Acc: 0.9020\n",
            "test Loss: 0.5543 Acc: 0.8725\n",
            "Epoch 6/24\n",
            "----------\n",
            "train Loss: 0.3035 Acc: 0.8954\n",
            "test Loss: 0.5748 Acc: 0.8714\n",
            "Epoch 7/24\n",
            "----------\n",
            "train Loss: 0.2930 Acc: 0.8985\n",
            "test Loss: 0.6494 Acc: 0.8707\n",
            "Epoch 8/24\n",
            "----------\n",
            "train Loss: 0.2931 Acc: 0.9035\n",
            "test Loss: 0.5855 Acc: 0.8675\n",
            "Epoch 9/24\n",
            "----------\n",
            "train Loss: 0.3006 Acc: 0.8975\n",
            "test Loss: 0.6177 Acc: 0.8664\n",
            "Epoch 10/24\n",
            "----------\n",
            "train Loss: 0.2962 Acc: 0.8988\n",
            "test Loss: 0.5386 Acc: 0.8743\n",
            "Epoch 11/24\n",
            "----------\n",
            "train Loss: 0.2990 Acc: 0.8984\n",
            "test Loss: 0.6279 Acc: 0.8667\n",
            "Epoch 12/24\n",
            "----------\n",
            "train Loss: 0.2796 Acc: 0.9035\n",
            "test Loss: 0.4986 Acc: 0.8836\n",
            "Epoch 13/24\n",
            "----------\n",
            "train Loss: 0.2804 Acc: 0.9041\n",
            "test Loss: 0.5801 Acc: 0.8714\n",
            "Epoch 14/24\n",
            "----------\n",
            "train Loss: 0.2859 Acc: 0.9008\n",
            "test Loss: 0.6280 Acc: 0.8635\n",
            "Epoch 15/24\n",
            "----------\n",
            "train Loss: 0.2849 Acc: 0.9009\n",
            "test Loss: 0.6261 Acc: 0.8649\n",
            "Epoch 16/24\n",
            "----------\n",
            "train Loss: 0.2863 Acc: 0.9025\n",
            "test Loss: 0.5587 Acc: 0.8710\n",
            "Epoch 17/24\n",
            "----------\n",
            "train Loss: 0.2918 Acc: 0.9018\n",
            "test Loss: 0.5573 Acc: 0.8700\n",
            "Epoch 18/24\n",
            "----------\n",
            "train Loss: 0.2940 Acc: 0.8988\n",
            "test Loss: 0.6066 Acc: 0.8657\n",
            "Epoch 19/24\n",
            "----------\n",
            "train Loss: 0.2910 Acc: 0.9003\n",
            "test Loss: 0.5575 Acc: 0.8746\n",
            "Epoch 20/24\n",
            "----------\n",
            "train Loss: 0.2900 Acc: 0.8994\n",
            "test Loss: 0.5616 Acc: 0.8736\n",
            "Epoch 21/24\n",
            "----------\n",
            "train Loss: 0.2938 Acc: 0.8995\n",
            "test Loss: 0.6160 Acc: 0.8703\n",
            "Epoch 22/24\n",
            "----------\n",
            "train Loss: 0.2878 Acc: 0.9020\n",
            "test Loss: 0.6425 Acc: 0.8610\n",
            "Epoch 23/24\n",
            "----------\n",
            "train Loss: 0.3019 Acc: 0.8972\n",
            "test Loss: 0.5988 Acc: 0.8610\n",
            "Epoch 24/24\n",
            "----------\n",
            "train Loss: 0.2918 Acc: 0.9010\n",
            "test Loss: 0.5024 Acc: 0.8746\n",
            "Training complete in 44m 21s\n",
            "Best val Acc: 0.883621\n"
          ],
          "name": "stdout"
        }
      ]
    },
    {
      "cell_type": "code",
      "metadata": {
        "id": "z790YrRzSFQG",
        "colab": {
          "base_uri": "https://localhost:8080/",
          "height": 581
        },
        "outputId": "f12ff453-bf91-4c6e-b067-b3fec1586b97"
      },
      "source": [
        "visualize_model(model_conv)\n",
        "plt.ioff()\n",
        "plt.show()"
      ],
      "execution_count": null,
      "outputs": [
        {
          "output_type": "display_data",
          "data": {
            "image/png": "[encoded data removed]",
            "text/plain": [
              "<Figure size 432x288 with 1 Axes>"
            ]
          },
          "metadata": {
            "tags": [],
            "needs_background": "light"
          }
        },
        {
          "output_type": "display_data",
          "data": {
            "image/png": "[encoded data removed]",
            "text/plain": [
              "<Figure size 432x288 with 1 Axes>"
            ]
          },
          "metadata": {
            "tags": [],
            "needs_background": "light"
          }
        },
        {
          "output_type": "display_data",
          "data": {
            "image/png": "[encoded data removed]",
            "text/plain": [
              "<Figure size 432x288 with 1 Axes>"
            ]
          },
          "metadata": {
            "tags": [],
            "needs_background": "light"
          }
        },
        {
          "output_type": "display_data",
          "data": {
            "image/png": "[encoded data removed]",
            "text/plain": [
              "<Figure size 432x288 with 1 Axes>"
            ]
          },
          "metadata": {
            "tags": [],
            "needs_background": "light"
          }
        },
        {
          "output_type": "display_data",
          "data": {
            "image/png": "[encoded data removed]",
            "text/plain": [
              "<Figure size 432x288 with 1 Axes>"
            ]
          },
          "metadata": {
            "tags": [],
            "needs_background": "light"
          }
        },
        {
          "output_type": "display_data",
          "data": {
            "image/png": "[encoded data removed]",
            "text/plain": [
              "<Figure size 432x288 with 1 Axes>"
            ]
          },
          "metadata": {
            "tags": [],
            "needs_background": "light"
          }
        }
      ]
    },
    {
      "cell_type": "markdown",
      "metadata": {
        "id": "E7TJ0L9jP4Om"
      },
      "source": [
        "Creamos funcion  que procesa la imagen para que el modelo pueda hacer deteccion"
      ]
    },
    {
      "cell_type": "code",
      "metadata": {
        "id": "wqZHCQ1KI2Nk"
      },
      "source": [
        "def image_loader2(image):\n",
        "    from PIL import Image\n",
        "    import cv2\n",
        "    imsize = 256\n",
        "    loader = transforms.Compose([transforms.Resize(imsize), transforms.ToTensor()])\n",
        "    image = loader(image).float()\n",
        "    #image = Variable(image, requires_grad=True)\n",
        "    image = image.unsqueeze(0)  #this is for VGG, may not be needed for ResNet\n",
        "    return image.cuda()  #assumes that you're using GPU"
      ],
      "execution_count": null,
      "outputs": []
    },
    {
      "cell_type": "markdown",
      "metadata": {
        "id": "OAIbFNiZQDUT"
      },
      "source": [
        "Funcion que recibe el modelo, la imagen y las clases y saca el indice con respecto al archivo classes de la prediccion y la confianza"
      ]
    },
    {
      "cell_type": "code",
      "metadata": {
        "id": "F6oeDNBtJqvj"
      },
      "source": [
        "def detect(net,image,class_names):\n",
        "  image = image_loader2(image)\n",
        "  net.eval()\n",
        "  output = net(image)\n",
        "  _, predicted = torch.max(output, 1)\n",
        "  confidence=torch.nn.functional.softmax(output, dim=1)[0]\n",
        "  confidence=confidence[predicted[0]].item()*100\n",
        "  classification1 = predicted.data\n",
        "  index = int(classification1)\n",
        "  #names = net.classes\n",
        "  return confidence,class_names[index]"
      ],
      "execution_count": null,
      "outputs": []
    },
    {
      "cell_type": "markdown",
      "metadata": {
        "id": "dO906t05QRZF"
      },
      "source": [
        "Funcion que crea la matriz de confusion"
      ]
    },
    {
      "cell_type": "code",
      "metadata": {
        "id": "oBlvjIzfVK68"
      },
      "source": [
        "def matrix_conf(net,class_names):\n",
        "  path='/content/data/test'\n",
        "  real=[]\n",
        "  predicted=[]\n",
        "  for class1 in os.listdir(path):\n",
        "    new_path=os.path.join(path, str (class1))\n",
        "    for class2 in os.listdir(new_path):\n",
        "      real.extend([str(class1)])  \n",
        "      check=os.path.join(new_path, str (class2))\n",
        "      check=str(check)\n",
        "      image = cv2.imread(check)\n",
        "      image = cv2.cvtColor(image, cv2.COLOR_BGR2RGB)\n",
        "      image=Image.fromarray(image)\n",
        "      _,name=detect(net,image,class_names)\n",
        "      predicted.extend([name])\n",
        "      y_pred=predicted\n",
        "      y_true=real\n",
        "  confusion=confusion_matrix(real,predicted)\n",
        "  return confusion,real,predicted"
      ],
      "execution_count": null,
      "outputs": []
    },
    {
      "cell_type": "code",
      "metadata": {
        "id": "80Wy9r9Dcq8V"
      },
      "source": [
        "matrix_resnet,real_resnet,predicted_resnet(model_conv,class_names)"
      ],
      "execution_count": null,
      "outputs": []
    },
    {
      "cell_type": "markdown",
      "metadata": {
        "id": "0m0nj2LOQpks"
      },
      "source": [
        "Funcion que lograr crear la visualizacion de la matriz de confusion"
      ]
    },
    {
      "cell_type": "code",
      "metadata": {
        "id": "UiKRYOWPfhJs"
      },
      "source": [
        "def plot_confusion_matrix(cm, classes,\n",
        "                          normalize=False,\n",
        "                          title='Confusion matrix',\n",
        "                          cmap=plt.cm.Blues):\n",
        "    \"\"\"\n",
        "    This function prints and plots the confusion matrix.\n",
        "    Normalization can be applied by setting `normalize=True`.\n",
        "    \"\"\"\n",
        "    if normalize:\n",
        "        cm = cm.astype('float') / cm.sum(axis=1)[:, np.newaxis]\n",
        "        print(\"Normalized confusion matrix\")\n",
        "    else:\n",
        "        print('Confusion matrix, without normalization')\n",
        "\n",
        "    #print(cm)\n",
        "    plt.figure(figsize=(len(classes), len(classes)))\n",
        "    plt.imshow(cm, interpolation='nearest', cmap=cmap)\n",
        "    plt.title(title)\n",
        "    plt.colorbar()\n",
        "    \n",
        "    tick_marks = np.arange(len(classes))\n",
        "    plt.xticks(tick_marks, classes, rotation=90)\n",
        "    plt.yticks(tick_marks, classes)\n",
        "\n",
        "    fmt = '1f' if normalize else 'd'\n",
        "    thresh = cm.max() / 2.\n",
        "    for i, j in itertools.product(range(cm.shape[0]), range(cm.shape[1])):\n",
        "        plt.text(j, i, format(cm[i, j], fmt),\n",
        "                 horizontalalignment=\"center\",\n",
        "                 color=\"white\" if cm[i, j] > thresh else \"black\")\n",
        "\n",
        "    plt.ylabel('True label')\n",
        "    plt.xlabel('Predicted label')\n",
        "    plt.tight_layout()"
      ],
      "execution_count": null,
      "outputs": []
    },
    {
      "cell_type": "code",
      "metadata": {
        "id": "QqrcGkmNuhvC",
        "colab": {
          "base_uri": "https://localhost:8080/",
          "height": 533
        },
        "outputId": "305434b0-f9a2-4f62-c977-5222229376e1"
      },
      "source": [
        "plt.figure()\n",
        "plot_confusion_matrix(matrix_resnet, classes=class_names,\n",
        "                      title='Confusion matrix Resnet')\n",
        "plt.show()"
      ],
      "execution_count": null,
      "outputs": [
        {
          "output_type": "stream",
          "text": [
            "Confusion matrix, without normalization\n"
          ],
          "name": "stdout"
        },
        {
          "output_type": "display_data",
          "data": {
            "text/plain": [
              "<Figure size 432x288 with 0 Axes>"
            ]
          },
          "metadata": {
            "tags": []
          }
        },
        {
          "output_type": "display_data",
          "data": {
            "image/png": "[encoded data removed]",
            "text/plain": [
              "<Figure size 504x504 with 2 Axes>"
            ]
          },
          "metadata": {
            "tags": [],
            "needs_background": "light"
          }
        }
      ]
    },
    {
      "cell_type": "markdown",
      "metadata": {
        "id": "g69a09fkQ-IV"
      },
      "source": [
        "Funcion para congelar todas las capas menos la ultima "
      ]
    },
    {
      "cell_type": "code",
      "metadata": {
        "id": "Nz_OhzrKDCJ7"
      },
      "source": [
        "def set_parameter_requires_grad(model, feature_extracting):\n",
        "    if feature_extracting:\n",
        "        for param in model.parameters():\n",
        "            param.requires_grad = False"
      ],
      "execution_count": null,
      "outputs": []
    },
    {
      "cell_type": "markdown",
      "metadata": {
        "id": "XQOhEh-D6N2y"
      },
      "source": [
        "VGG  19 TRAIN\n"
      ]
    },
    {
      "cell_type": "code",
      "metadata": {
        "id": "e4LkUOkE6NY2",
        "colab": {
          "base_uri": "https://localhost:8080/",
          "height": 103,
          "referenced_widgets": [
            "75e0e9acbace4203982701ac00dd2443",
            "87a0a115f2c545cc9e21f5030c42da9b",
            "2bb9ce48bd364cb7a9a186c6cee5ed18",
            "04235ce3f5914493977a40892807e656",
            "e64dd3b675274553ad011435880dc9f5",
            "abf6d570a44b449a8678b1508d9f9c86",
            "7e89f70b934d4e0591c840de03d5d305",
            "45135a453ac34c3d9d1f14a295f82466"
          ]
        },
        "outputId": "6c141b55-d02c-4fc3-80fd-851fa383ffd8"
      },
      "source": [
        "model_ft_vgg = models.vgg19_bn(pretrained=True)\n",
        "set_parameter_requires_grad(model_ft_vgg, True)\n",
        "num_ftrs = model_ft_vgg.classifier[6].in_features\n",
        "model_ft_vgg.classifier[6] = nn.Linear(num_ftrs, len(class_names))\n",
        "input_size = 224\n",
        "\n",
        "model_ft_vgg = model_ft_vgg.to(device)\n",
        "criterion = nn.CrossEntropyLoss()\n",
        "optimizer_ft = optim.SGD(model_ft_vgg.parameters(), lr=0.001, momentum=0.9)\n",
        "exp_lr_scheduler = lr_scheduler.StepLR(optimizer_ft, step_size=7, gamma=0.1)"
      ],
      "execution_count": null,
      "outputs": [
        {
          "output_type": "stream",
          "text": [
            "Downloading: \"https://download.pytorch.org/models/vgg19_bn-c79401a0.pth\" to /root/.cache/torch/hub/checkpoints/vgg19_bn-c79401a0.pth\n"
          ],
          "name": "stderr"
        },
        {
          "output_type": "display_data",
          "data": {
            "application/vnd.jupyter.widget-view+json": {
              "model_id": "75e0e9acbace4203982701ac00dd2443",
              "version_minor": 0,
              "version_major": 2
            },
            "text/plain": [
              "HBox(children=(FloatProgress(value=0.0, max=574769405.0), HTML(value='')))"
            ]
          },
          "metadata": {
            "tags": []
          }
        },
        {
          "output_type": "stream",
          "text": [
            "\n"
          ],
          "name": "stdout"
        }
      ]
    },
    {
      "cell_type": "code",
      "metadata": {
        "id": "ZXkaB9t27zI9",
        "colab": {
          "base_uri": "https://localhost:8080/"
        },
        "outputId": "83330dbc-d80d-41c1-915a-e734807ad43a"
      },
      "source": [
        "model_ft_vgg=train_model(model_ft, criterion, optimizer_ft, exp_lr_scheduler,num_epochs=25)\n",
        "torch.save(model_ft_vgg,'/mydrive/SSD/model_vgg19_train.pth')"
      ],
      "execution_count": null,
      "outputs": [
        {
          "output_type": "stream",
          "text": [
            "Epoch 0/24\n",
            "----------\n",
            "train Loss: 0.2927 Acc: 0.9028\n",
            "test Loss: 0.4909 Acc: 0.8750\n",
            "Epoch 1/24\n",
            "----------\n",
            "train Loss: 0.2857 Acc: 0.9019\n",
            "test Loss: 0.5932 Acc: 0.8667\n",
            "Epoch 2/24\n",
            "----------\n",
            "train Loss: 0.2954 Acc: 0.9021\n",
            "test Loss: 0.5173 Acc: 0.8757\n",
            "Epoch 3/24\n",
            "----------\n",
            "train Loss: 0.2894 Acc: 0.9010\n",
            "test Loss: 0.5033 Acc: 0.8754\n",
            "Epoch 4/24\n",
            "----------\n",
            "train Loss: 0.2807 Acc: 0.9034\n",
            "test Loss: 0.5644 Acc: 0.8757\n",
            "Epoch 5/24\n",
            "----------\n",
            "train Loss: 0.2942 Acc: 0.8985\n",
            "test Loss: 0.6357 Acc: 0.8614\n",
            "Epoch 6/24\n",
            "----------\n",
            "train Loss: 0.2918 Acc: 0.8994\n",
            "test Loss: 0.5814 Acc: 0.8693\n",
            "Epoch 7/24\n",
            "----------\n",
            "train Loss: 0.2933 Acc: 0.8997\n",
            "test Loss: 0.5673 Acc: 0.8739\n",
            "Epoch 8/24\n",
            "----------\n",
            "train Loss: 0.2873 Acc: 0.9029\n",
            "test Loss: 0.6122 Acc: 0.8675\n",
            "Epoch 9/24\n",
            "----------\n",
            "train Loss: 0.2947 Acc: 0.9000\n",
            "test Loss: 0.5115 Acc: 0.8750\n",
            "Epoch 10/24\n",
            "----------\n",
            "train Loss: 0.2823 Acc: 0.9036\n",
            "test Loss: 0.5672 Acc: 0.8739\n",
            "Epoch 11/24\n",
            "----------\n",
            "train Loss: 0.2909 Acc: 0.9019\n",
            "test Loss: 0.7053 Acc: 0.8614\n",
            "Epoch 12/24\n",
            "----------\n",
            "train Loss: 0.2901 Acc: 0.8981\n",
            "test Loss: 0.5681 Acc: 0.8736\n",
            "Epoch 13/24\n",
            "----------\n",
            "train Loss: 0.2880 Acc: 0.8994\n",
            "test Loss: 0.6072 Acc: 0.8689\n",
            "Epoch 14/24\n",
            "----------\n",
            "train Loss: 0.2782 Acc: 0.9062\n",
            "test Loss: 0.5843 Acc: 0.8624\n",
            "Epoch 15/24\n",
            "----------\n",
            "train Loss: 0.2935 Acc: 0.9008\n",
            "test Loss: 0.4651 Acc: 0.8843\n",
            "Epoch 16/24\n",
            "----------\n",
            "train Loss: 0.2922 Acc: 0.9016\n",
            "test Loss: 0.6388 Acc: 0.8707\n",
            "Epoch 17/24\n",
            "----------\n",
            "train Loss: 0.2901 Acc: 0.9006\n",
            "test Loss: 0.6600 Acc: 0.8567\n",
            "Epoch 18/24\n",
            "----------\n",
            "train Loss: 0.2831 Acc: 0.9056\n",
            "test Loss: 0.6001 Acc: 0.8696\n",
            "Epoch 19/24\n",
            "----------\n",
            "train Loss: 0.2850 Acc: 0.9007\n",
            "test Loss: 0.5228 Acc: 0.8657\n",
            "Epoch 20/24\n",
            "----------\n",
            "train Loss: 0.2948 Acc: 0.8983\n",
            "test Loss: 0.6489 Acc: 0.8660\n",
            "Epoch 21/24\n",
            "----------\n",
            "train Loss: 0.2976 Acc: 0.8968\n",
            "test Loss: 0.5253 Acc: 0.8779\n",
            "Epoch 22/24\n",
            "----------\n",
            "train Loss: 0.2870 Acc: 0.9005\n",
            "test Loss: 0.6762 Acc: 0.8606\n",
            "Epoch 23/24\n",
            "----------\n",
            "train Loss: 0.2936 Acc: 0.8994\n",
            "test Loss: 0.6399 Acc: 0.8617\n",
            "Epoch 24/24\n",
            "----------\n",
            "train Loss: 0.2899 Acc: 0.9009\n",
            "test Loss: 0.5220 Acc: 0.8714\n",
            "Training complete in 46m 1s\n",
            "Best val Acc: 0.884339\n"
          ],
          "name": "stdout"
        }
      ]
    },
    {
      "cell_type": "code",
      "metadata": {
        "id": "395bVrbJ7-Rq",
        "colab": {
          "base_uri": "https://localhost:8080/",
          "height": 587
        },
        "outputId": "db0924c4-db8a-42e7-93be-cdbacf572ca5"
      },
      "source": [
        "visualize_model(model_ft_vgg)"
      ],
      "execution_count": null,
      "outputs": [
        {
          "output_type": "display_data",
          "data": {
            "image/png": "[encoded data removed]",
            "text/plain": [
              "<Figure size 432x288 with 1 Axes>"
            ]
          },
          "metadata": {
            "tags": [],
            "needs_background": "light"
          }
        },
        {
          "output_type": "display_data",
          "data": {
            "image/png": "[encoded data removed]",
            "text/plain": [
              "<Figure size 432x288 with 1 Axes>"
            ]
          },
          "metadata": {
            "tags": [],
            "needs_background": "light"
          }
        },
        {
          "output_type": "display_data",
          "data": {
            "image/png": "[encoded data removed]",
            "text/plain": [
              "<Figure size 432x288 with 1 Axes>"
            ]
          },
          "metadata": {
            "tags": [],
            "needs_background": "light"
          }
        },
        {
          "output_type": "display_data",
          "data": {
            "image/png": "[encoded data removed]",
            "text/plain": [
              "<Figure size 432x288 with 1 Axes>"
            ]
          },
          "metadata": {
            "tags": [],
            "needs_background": "light"
          }
        },
        {
          "output_type": "display_data",
          "data": {
            "image/png": "[encoded data removed]",
            "text/plain": [
              "<Figure size 432x288 with 1 Axes>"
            ]
          },
          "metadata": {
            "tags": [],
            "needs_background": "light"
          }
        },
        {
          "output_type": "display_data",
          "data": {
            "image/png": "[encoded data removed]",
            "text/plain": [
              "<Figure size 432x288 with 1 Axes>"
            ]
          },
          "metadata": {
            "tags": [],
            "needs_background": "light"
          }
        }
      ]
    },
    {
      "cell_type": "code",
      "metadata": {
        "id": "AwPsPk-j8BLa"
      },
      "source": [
        "model_ft_vgg = model_ft_vgg.to(device)\n",
        "params_to_update = model_ft_vgg.parameters()\n",
        "if True:\n",
        "    params_to_update = []\n",
        "    for name,param in model_ft.named_parameters():\n",
        "        if param.requires_grad == True:\n",
        "            params_to_update.append(param)\n",
        "optimizer_ft = optim.SGD(params_to_update, lr=0.001, momentum=0.9)"
      ],
      "execution_count": null,
      "outputs": []
    },
    {
      "cell_type": "code",
      "metadata": {
        "id": "r3B7Xnw880BE",
        "colab": {
          "base_uri": "https://localhost:8080/"
        },
        "outputId": "e5fcb11d-5cfb-4f2a-a416-841369e79f42"
      },
      "source": [
        "model_vgg = train_model(model_ft_vgg, criterion, optimizer_ft, exp_lr_scheduler,num_epochs=25)\n",
        "torch.save(model_vgg,'/mydrive/SSD/model_vgg19.pth')"
      ],
      "execution_count": null,
      "outputs": [
        {
          "output_type": "stream",
          "text": [
            "Epoch 0/24\n",
            "----------\n",
            "train Loss: 0.2987 Acc: 0.8943\n",
            "test Loss: 0.5361 Acc: 0.8710\n",
            "Epoch 1/24\n",
            "----------\n",
            "train Loss: 0.3013 Acc: 0.8966\n",
            "test Loss: 0.6710 Acc: 0.8649\n",
            "Epoch 2/24\n",
            "----------\n",
            "train Loss: 0.3111 Acc: 0.8922\n",
            "test Loss: 0.6304 Acc: 0.8700\n",
            "Epoch 3/24\n",
            "----------\n",
            "train Loss: 0.3041 Acc: 0.8958\n",
            "test Loss: 0.6599 Acc: 0.8624\n",
            "Epoch 4/24\n",
            "----------\n",
            "train Loss: 0.2899 Acc: 0.8977\n",
            "test Loss: 0.5827 Acc: 0.8682\n",
            "Epoch 5/24\n",
            "----------\n",
            "train Loss: 0.2930 Acc: 0.8986\n",
            "test Loss: 0.6293 Acc: 0.8675\n",
            "Epoch 6/24\n",
            "----------\n",
            "train Loss: 0.3092 Acc: 0.8942\n",
            "test Loss: 0.6333 Acc: 0.8653\n",
            "Epoch 7/24\n",
            "----------\n",
            "train Loss: 0.2979 Acc: 0.9015\n",
            "test Loss: 0.6293 Acc: 0.8596\n",
            "Epoch 8/24\n",
            "----------\n",
            "train Loss: 0.2998 Acc: 0.8978\n",
            "test Loss: 0.7190 Acc: 0.8570\n",
            "Epoch 9/24\n",
            "----------\n",
            "train Loss: 0.2854 Acc: 0.9035\n",
            "test Loss: 0.6577 Acc: 0.8639\n",
            "Epoch 10/24\n",
            "----------\n",
            "train Loss: 0.2952 Acc: 0.9002\n",
            "test Loss: 0.6881 Acc: 0.8671\n",
            "Epoch 11/24\n",
            "----------\n",
            "train Loss: 0.2911 Acc: 0.9000\n",
            "test Loss: 0.5617 Acc: 0.8757\n",
            "Epoch 12/24\n",
            "----------\n",
            "train Loss: 0.2879 Acc: 0.9009\n",
            "test Loss: 0.5304 Acc: 0.8732\n",
            "Epoch 13/24\n",
            "----------\n",
            "train Loss: 0.2877 Acc: 0.9028\n",
            "test Loss: 0.6830 Acc: 0.8621\n",
            "Epoch 14/24\n",
            "----------\n",
            "train Loss: 0.2933 Acc: 0.8975\n",
            "test Loss: 0.6218 Acc: 0.8714\n",
            "Epoch 15/24\n",
            "----------\n",
            "train Loss: 0.2938 Acc: 0.9010\n",
            "test Loss: 0.5731 Acc: 0.8743\n",
            "Epoch 16/24\n",
            "----------\n",
            "train Loss: 0.2892 Acc: 0.9011\n",
            "test Loss: 0.5972 Acc: 0.8664\n",
            "Epoch 17/24\n",
            "----------\n",
            "train Loss: 0.2832 Acc: 0.9020\n",
            "test Loss: 0.6002 Acc: 0.8675\n",
            "Epoch 18/24\n",
            "----------\n",
            "train Loss: 0.2896 Acc: 0.9001\n",
            "test Loss: 0.6704 Acc: 0.8671\n",
            "Epoch 19/24\n",
            "----------\n",
            "train Loss: 0.2984 Acc: 0.8999\n",
            "test Loss: 0.5543 Acc: 0.8693\n",
            "Epoch 20/24\n",
            "----------\n",
            "train Loss: 0.2928 Acc: 0.8998\n",
            "test Loss: 0.5697 Acc: 0.8689\n",
            "Epoch 21/24\n",
            "----------\n",
            "train Loss: 0.2976 Acc: 0.8990\n",
            "test Loss: 0.5687 Acc: 0.8736\n",
            "Epoch 22/24\n",
            "----------\n",
            "train Loss: 0.2846 Acc: 0.9019\n",
            "test Loss: 0.7080 Acc: 0.8682\n",
            "Epoch 23/24\n",
            "----------\n",
            "train Loss: 0.2873 Acc: 0.9007\n",
            "test Loss: 0.5100 Acc: 0.8825\n",
            "Epoch 24/24\n",
            "----------\n",
            "train Loss: 0.2933 Acc: 0.9007\n",
            "test Loss: 0.5293 Acc: 0.8804\n",
            "Training complete in 45m 15s\n",
            "Best val Acc: 0.882543\n"
          ],
          "name": "stdout"
        }
      ]
    },
    {
      "cell_type": "code",
      "metadata": {
        "id": "r_d5GfjC9g_f",
        "colab": {
          "base_uri": "https://localhost:8080/",
          "height": 581
        },
        "outputId": "d40bad7b-5ab4-4ddf-d0a3-aa9a78acfa8a"
      },
      "source": [
        "visualize_model(model_vgg)"
      ],
      "execution_count": null,
      "outputs": [
        {
          "output_type": "display_data",
          "data": {
            "image/png": "[encoded data removed]",
            "text/plain": [
              "<Figure size 432x288 with 1 Axes>"
            ]
          },
          "metadata": {
            "tags": [],
            "needs_background": "light"
          }
        },
        {
          "output_type": "display_data",
          "data": {
            "image/png": "[encoded data removed]",
            "text/plain": [
              "<Figure size 432x288 with 1 Axes>"
            ]
          },
          "metadata": {
            "tags": [],
            "needs_background": "light"
          }
        },
        {
          "output_type": "display_data",
          "data": {
            "image/png": "[encoded data removed]",
            "text/plain": [
              "<Figure size 432x288 with 1 Axes>"
            ]
          },
          "metadata": {
            "tags": [],
            "needs_background": "light"
          }
        },
        {
          "output_type": "display_data",
          "data": {
            "image/png": "[encoded data removed]",
            "text/plain": [
              "<Figure size 432x288 with 1 Axes>"
            ]
          },
          "metadata": {
            "tags": [],
            "needs_background": "light"
          }
        },
        {
          "output_type": "display_data",
          "data": {
            "image/png": "[encoded data removed]",
            "text/plain": [
              "<Figure size 432x288 with 1 Axes>"
            ]
          },
          "metadata": {
            "tags": [],
            "needs_background": "light"
          }
        },
        {
          "output_type": "display_data",
          "data": {
            "image/png": "[encoded data removed]",
            "text/plain": [
              "<Figure size 432x288 with 1 Axes>"
            ]
          },
          "metadata": {
            "tags": [],
            "needs_background": "light"
          }
        }
      ]
    },
    {
      "cell_type": "code",
      "metadata": {
        "id": "kZPUbkTb9oNN"
      },
      "source": [
        "matrix_vgg,real_vgg,predicted_vgg=matrix_conf(model_vgg,class_names)"
      ],
      "execution_count": null,
      "outputs": []
    },
    {
      "cell_type": "code",
      "metadata": {
        "id": "Ngv4_5hc9z0V",
        "colab": {
          "base_uri": "https://localhost:8080/",
          "height": 534
        },
        "outputId": "f1e6523c-e1e9-43e0-b5b6-818be4996e88"
      },
      "source": [
        "plt.figure()\n",
        "plot_confusion_matrix(matrix_vgg, classes=class_names,\n",
        "                      title='Confusion matrix VGG19')\n",
        "plt.show()"
      ],
      "execution_count": null,
      "outputs": [
        {
          "output_type": "stream",
          "text": [
            "Confusion matrix, without normalization\n"
          ],
          "name": "stdout"
        },
        {
          "output_type": "display_data",
          "data": {
            "text/plain": [
              "<Figure size 432x288 with 0 Axes>"
            ]
          },
          "metadata": {
            "tags": []
          }
        },
        {
          "output_type": "display_data",
          "data": {
            "image/png": "[encoded data removed]",
            "text/plain": [
              "<Figure size 504x504 with 2 Axes>"
            ]
          },
          "metadata": {
            "tags": [],
            "needs_background": "light"
          }
        }
      ]
    },
    {
      "cell_type": "markdown",
      "metadata": {
        "id": "5qDYLy49RMOF"
      },
      "source": [
        "GOOGLENET TRAIN"
      ]
    },
    {
      "cell_type": "code",
      "metadata": {
        "id": "B-1avSx2kwB3",
        "colab": {
          "base_uri": "https://localhost:8080/",
          "height": 103,
          "referenced_widgets": [
            "e2f5043ed9974884a40c9b034c0c85c8",
            "84ff8ebee8c74707a004a649649b32a5",
            "ef901232142546d3b276ed218f827159",
            "2410df17a8964f459256d799200eeb79",
            "39b81143cb2f44b08056bb62a177e14a",
            "2205191fb2f74d06949eb08bab835fcd",
            "f48631371c5741c9bece94f36e023079",
            "e69096b3fc5e4a7e99221156e8a39053"
          ]
        },
        "outputId": "db8ad0c3-3df6-48d4-fe77-873c369b801f"
      },
      "source": [
        "model_ft_googlenet = models.googlenet(pretrained=True)\n",
        "num_ftrs = model_ft_googlenet.fc.in_features\n",
        "# Here the size of each output sample is set to 2.\n",
        "# Alternatively, it can be generalized to nn.Linear(num_ftrs, len(class_names)).\n",
        "model_ft_googlenet.fc = nn.Linear(num_ftrs, len(class_names))\n",
        "\n",
        "model_ft_googlenet = model_ft_googlenet.to(device)\n",
        "\n",
        "criterion = nn.CrossEntropyLoss()\n",
        "\n",
        "# Observe that all parameters are being optimized\n",
        "optimizer_ft = optim.SGD(model_ft_googlenet.parameters(), lr=0.001, momentum=0.9)\n",
        "\n",
        "# Decay LR by a factor of 0.1 every 7 epochs\n",
        "exp_lr_scheduler = lr_scheduler.StepLR(optimizer_ft, step_size=7, gamma=0.1)"
      ],
      "execution_count": null,
      "outputs": [
        {
          "output_type": "stream",
          "text": [
            "Downloading: \"https://download.pytorch.org/models/googlenet-1378be20.pth\" to /root/.cache/torch/hub/checkpoints/googlenet-1378be20.pth\n"
          ],
          "name": "stderr"
        },
        {
          "output_type": "display_data",
          "data": {
            "application/vnd.jupyter.widget-view+json": {
              "model_id": "e2f5043ed9974884a40c9b034c0c85c8",
              "version_minor": 0,
              "version_major": 2
            },
            "text/plain": [
              "HBox(children=(FloatProgress(value=0.0, max=52147035.0), HTML(value='')))"
            ]
          },
          "metadata": {
            "tags": []
          }
        },
        {
          "output_type": "stream",
          "text": [
            "\n"
          ],
          "name": "stdout"
        }
      ]
    },
    {
      "cell_type": "code",
      "metadata": {
        "id": "TXUcGKFwlHgm",
        "colab": {
          "base_uri": "https://localhost:8080/"
        },
        "outputId": "5475b58c-6b1d-48f3-f4ca-436637a25da8"
      },
      "source": [
        "model_googlenet = train_model(model_ft_googlenet, criterion, optimizer_ft, exp_lr_scheduler,num_epochs=25)\n",
        "torch.save(model_googlenet,'/mydrive/SSD/model_googlenet_train.pth')"
      ],
      "execution_count": null,
      "outputs": [
        {
          "output_type": "stream",
          "text": [
            "Epoch 0/24\n",
            "----------\n",
            "train Loss: 1.3859 Acc: 0.4843\n",
            "test Loss: 0.9537 Acc: 0.6659\n",
            "Epoch 1/24\n",
            "----------\n",
            "train Loss: 1.1294 Acc: 0.5999\n",
            "test Loss: 0.8126 Acc: 0.7270\n",
            "Epoch 2/24\n",
            "----------\n",
            "train Loss: 0.9935 Acc: 0.6529\n",
            "test Loss: 0.7422 Acc: 0.7507\n",
            "Epoch 3/24\n",
            "----------\n",
            "train Loss: 0.8846 Acc: 0.6887\n",
            "test Loss: 0.7693 Acc: 0.7561\n",
            "Epoch 4/24\n",
            "----------\n",
            "train Loss: 0.8256 Acc: 0.7111\n",
            "test Loss: 0.6862 Acc: 0.7766\n",
            "Epoch 5/24\n",
            "----------\n",
            "train Loss: 0.7654 Acc: 0.7332\n",
            "test Loss: 0.7694 Acc: 0.7611\n",
            "Epoch 6/24\n",
            "----------\n",
            "train Loss: 0.7301 Acc: 0.7492\n",
            "test Loss: 0.6026 Acc: 0.8096\n",
            "Epoch 7/24\n",
            "----------\n",
            "train Loss: 0.6011 Acc: 0.7940\n",
            "test Loss: 0.4635 Acc: 0.8470\n",
            "Epoch 8/24\n",
            "----------\n",
            "train Loss: 0.5600 Acc: 0.8071\n",
            "test Loss: 0.4661 Acc: 0.8499\n",
            "Epoch 9/24\n",
            "----------\n",
            "train Loss: 0.5318 Acc: 0.8179\n",
            "test Loss: 0.4211 Acc: 0.8592\n",
            "Epoch 10/24\n",
            "----------\n",
            "train Loss: 0.5219 Acc: 0.8199\n",
            "test Loss: 0.4545 Acc: 0.8531\n",
            "Epoch 11/24\n",
            "----------\n",
            "train Loss: 0.5002 Acc: 0.8295\n",
            "test Loss: 0.4399 Acc: 0.8556\n",
            "Epoch 12/24\n",
            "----------\n",
            "train Loss: 0.5045 Acc: 0.8265\n",
            "test Loss: 0.4338 Acc: 0.8617\n",
            "Epoch 13/24\n",
            "----------\n",
            "train Loss: 0.5037 Acc: 0.8275\n",
            "test Loss: 0.4423 Acc: 0.8585\n",
            "Epoch 14/24\n",
            "----------\n",
            "train Loss: 0.4734 Acc: 0.8404\n",
            "test Loss: 0.4066 Acc: 0.8754\n",
            "Epoch 15/24\n",
            "----------\n",
            "train Loss: 0.4823 Acc: 0.8348\n",
            "test Loss: 0.4500 Acc: 0.8578\n",
            "Epoch 16/24\n",
            "----------\n",
            "train Loss: 0.4896 Acc: 0.8327\n",
            "test Loss: 0.4416 Acc: 0.8617\n",
            "Epoch 17/24\n",
            "----------\n",
            "train Loss: 0.4768 Acc: 0.8339\n",
            "test Loss: 0.4534 Acc: 0.8513\n",
            "Epoch 18/24\n",
            "----------\n",
            "train Loss: 0.4757 Acc: 0.8373\n",
            "test Loss: 0.4200 Acc: 0.8624\n",
            "Epoch 19/24\n",
            "----------\n",
            "train Loss: 0.4777 Acc: 0.8377\n",
            "test Loss: 0.4681 Acc: 0.8556\n",
            "Epoch 20/24\n",
            "----------\n",
            "train Loss: 0.4488 Acc: 0.8473\n",
            "test Loss: 0.4109 Acc: 0.8682\n",
            "Epoch 21/24\n",
            "----------\n",
            "train Loss: 0.4707 Acc: 0.8430\n",
            "test Loss: 0.4238 Acc: 0.8653\n",
            "Epoch 22/24\n",
            "----------\n",
            "train Loss: 0.4796 Acc: 0.8368\n",
            "test Loss: 0.4122 Acc: 0.8721\n",
            "Epoch 23/24\n",
            "----------\n",
            "train Loss: 0.4747 Acc: 0.8394\n",
            "test Loss: 0.4297 Acc: 0.8639\n",
            "Epoch 24/24\n",
            "----------\n",
            "train Loss: 0.4619 Acc: 0.8426\n",
            "test Loss: 0.4119 Acc: 0.8718\n",
            "Training complete in 57m 43s\n",
            "Best val Acc: 0.875359\n"
          ],
          "name": "stdout"
        }
      ]
    },
    {
      "cell_type": "code",
      "metadata": {
        "id": "HvW8CjHalQ4R",
        "colab": {
          "base_uri": "https://localhost:8080/",
          "height": 583
        },
        "outputId": "ff605fae-6dbe-426e-efc7-40e339dd423e"
      },
      "source": [
        "visualize_model(model_googlenet)"
      ],
      "execution_count": null,
      "outputs": [
        {
          "output_type": "display_data",
          "data": {
            "image/png": "[encoded data removed]",
            "text/plain": [
              "<Figure size 432x288 with 1 Axes>"
            ]
          },
          "metadata": {
            "tags": [],
            "needs_background": "light"
          }
        },
        {
          "output_type": "display_data",
          "data": {
            "image/png": "[encoded data removed]",
            "text/plain": [
              "<Figure size 432x288 with 1 Axes>"
            ]
          },
          "metadata": {
            "tags": [],
            "needs_background": "light"
          }
        },
        {
          "output_type": "display_data",
          "data": {
            "image/png": "[encoded data removed]",
            "text/plain": [
              "<Figure size 432x288 with 1 Axes>"
            ]
          },
          "metadata": {
            "tags": [],
            "needs_background": "light"
          }
        },
        {
          "output_type": "display_data",
          "data": {
            "image/png": "[encoded data removed]",
            "text/plain": [
              "<Figure size 432x288 with 1 Axes>"
            ]
          },
          "metadata": {
            "tags": [],
            "needs_background": "light"
          }
        },
        {
          "output_type": "display_data",
          "data": {
            "image/png": "[encoded data removed]",
            "text/plain": [
              "<Figure size 432x288 with 1 Axes>"
            ]
          },
          "metadata": {
            "tags": [],
            "needs_background": "light"
          }
        },
        {
          "output_type": "display_data",
          "data": {
            "image/png": "[encoded data removed]",
            "text/plain": [
              "<Figure size 432x288 with 1 Axes>"
            ]
          },
          "metadata": {
            "tags": [],
            "needs_background": "light"
          }
        }
      ]
    },
    {
      "cell_type": "code",
      "metadata": {
        "id": "N8CbjY-Flci6"
      },
      "source": [
        "model_conv = model_googlenet.to(device)\n",
        "for param in model_conv.parameters():\n",
        "    param.requires_grad = False\n",
        "\n",
        "# Parameters of newly constructed modules have requires_grad=True by default\n",
        "num_ftrs = model_conv.fc.in_features\n",
        "model_conv.fc = nn.Linear(num_ftrs, len(class_names))\n",
        "\n",
        "model_conv = model_conv.to(device)\n",
        "\n",
        "criterion = nn.CrossEntropyLoss()\n",
        "\n",
        "# Observe that only parameters of final layer are being optimized as\n",
        "# opposed to before.\n",
        "optimizer_conv = optim.SGD(model_conv.fc.parameters(), lr=0.001, momentum=0.9)\n",
        "\n",
        "# Decay LR by a factor of 0.1 every 7 epochs\n",
        "exp_lr_scheduler = lr_scheduler.StepLR(optimizer_conv, step_size=7, gamma=0.1)"
      ],
      "execution_count": null,
      "outputs": []
    },
    {
      "cell_type": "code",
      "metadata": {
        "id": "tvZkLxYSlpkG",
        "colab": {
          "base_uri": "https://localhost:8080/"
        },
        "outputId": "16c82a5c-1359-4ccb-aa92-66c8cd02f63a"
      },
      "source": [
        "model_googlenet = train_model(model_conv, criterion, optimizer_ft, exp_lr_scheduler,num_epochs=25)\n",
        "torch.save(model_googlenet,'/mydrive/SSD/model_googlenet.pth')"
      ],
      "execution_count": null,
      "outputs": [
        {
          "output_type": "stream",
          "text": [
            "Epoch 0/24\n",
            "----------\n",
            "train Loss: 1.9697 Acc: 0.1190\n"
          ],
          "name": "stdout"
        },
        {
          "output_type": "stream",
          "text": [
            "/usr/local/lib/python3.6/dist-packages/torch/optim/lr_scheduler.py:136: UserWarning: Detected call of `lr_scheduler.step()` before `optimizer.step()`. In PyTorch 1.1.0 and later, you should call them in the opposite order: `optimizer.step()` before `lr_scheduler.step()`.  Failure to do this will result in PyTorch skipping the first value of the learning rate schedule. See more details at https://pytorch.org/docs/stable/optim.html#how-to-adjust-learning-rate\n",
            "  \"https://pytorch.org/docs/stable/optim.html#how-to-adjust-learning-rate\", UserWarning)\n"
          ],
          "name": "stderr"
        },
        {
          "output_type": "stream",
          "text": [
            "test Loss: 1.9966 Acc: 0.0769\n",
            "Epoch 1/24\n",
            "----------\n",
            "train Loss: 1.9699 Acc: 0.1141\n",
            "test Loss: 1.9943 Acc: 0.0833\n",
            "Epoch 2/24\n",
            "----------\n",
            "train Loss: 1.9713 Acc: 0.1170\n",
            "test Loss: 2.0002 Acc: 0.0873\n",
            "Epoch 3/24\n",
            "----------\n",
            "train Loss: 1.9707 Acc: 0.1146\n",
            "test Loss: 1.9846 Acc: 0.0808\n",
            "Epoch 4/24\n",
            "----------\n",
            "train Loss: 1.9713 Acc: 0.1124\n",
            "test Loss: 1.9925 Acc: 0.0758\n",
            "Epoch 5/24\n",
            "----------\n",
            "train Loss: 1.9722 Acc: 0.1124\n",
            "test Loss: 1.9930 Acc: 0.0934\n",
            "Epoch 6/24\n",
            "----------\n",
            "train Loss: 1.9698 Acc: 0.1122\n",
            "test Loss: 1.9951 Acc: 0.0833\n",
            "Epoch 7/24\n",
            "----------\n",
            "train Loss: 1.9710 Acc: 0.1123\n",
            "test Loss: 1.9980 Acc: 0.0787\n",
            "Epoch 8/24\n",
            "----------\n",
            "train Loss: 1.9701 Acc: 0.1155\n",
            "test Loss: 1.9993 Acc: 0.0715\n",
            "Epoch 9/24\n",
            "----------\n",
            "train Loss: 1.9695 Acc: 0.1156\n",
            "test Loss: 2.0012 Acc: 0.0740\n",
            "Epoch 10/24\n",
            "----------\n",
            "train Loss: 1.9693 Acc: 0.1159\n",
            "test Loss: 2.0018 Acc: 0.0837\n",
            "Epoch 11/24\n",
            "----------\n",
            "train Loss: 1.9695 Acc: 0.1167\n",
            "test Loss: 1.9964 Acc: 0.0948\n",
            "Epoch 12/24\n",
            "----------\n",
            "train Loss: 1.9693 Acc: 0.1118\n",
            "test Loss: 1.9940 Acc: 0.0862\n",
            "Epoch 13/24\n",
            "----------\n",
            "train Loss: 1.9716 Acc: 0.1158\n",
            "test Loss: 1.9955 Acc: 0.0758\n",
            "Epoch 14/24\n",
            "----------\n",
            "train Loss: 1.9690 Acc: 0.1164\n",
            "test Loss: 1.9985 Acc: 0.0826\n",
            "Epoch 15/24\n",
            "----------\n",
            "train Loss: 1.9696 Acc: 0.1159\n",
            "test Loss: 1.9879 Acc: 0.0876\n",
            "Epoch 16/24\n",
            "----------\n",
            "train Loss: 1.9705 Acc: 0.1135\n",
            "test Loss: 1.9912 Acc: 0.0808\n",
            "Epoch 17/24\n",
            "----------\n",
            "train Loss: 1.9693 Acc: 0.1196\n",
            "test Loss: 1.9967 Acc: 0.0887\n",
            "Epoch 18/24\n",
            "----------\n",
            "train Loss: 1.9691 Acc: 0.1184\n",
            "test Loss: 1.9923 Acc: 0.0941\n",
            "Epoch 19/24\n",
            "----------\n",
            "train Loss: 1.9707 Acc: 0.1163\n",
            "test Loss: 1.9935 Acc: 0.0823\n",
            "Epoch 20/24\n",
            "----------\n",
            "train Loss: 1.9702 Acc: 0.1128\n",
            "test Loss: 1.9986 Acc: 0.0830\n",
            "Epoch 21/24\n",
            "----------\n",
            "train Loss: 1.9697 Acc: 0.1146\n",
            "test Loss: 1.9951 Acc: 0.0862\n",
            "Epoch 22/24\n",
            "----------\n",
            "train Loss: 1.9695 Acc: 0.1201\n",
            "test Loss: 1.9933 Acc: 0.0776\n",
            "Epoch 23/24\n",
            "----------\n",
            "train Loss: 1.9706 Acc: 0.1176\n",
            "test Loss: 1.9975 Acc: 0.0747\n",
            "Epoch 24/24\n",
            "----------\n",
            "train Loss: 1.9705 Acc: 0.1151\n",
            "test Loss: 1.9949 Acc: 0.0740\n",
            "Training complete in 41m 54s\n",
            "Best val Acc: 0.094828\n"
          ],
          "name": "stdout"
        }
      ]
    },
    {
      "cell_type": "code",
      "metadata": {
        "id": "j7zz2STz1BO_"
      },
      "source": [
        "matrix_googlenet,real_googlenet,predicted_googlenet=matrix_conf(model_googlenet,class_names)"
      ],
      "execution_count": null,
      "outputs": []
    },
    {
      "cell_type": "code",
      "metadata": {
        "id": "38GI_lR-1UHp",
        "colab": {
          "base_uri": "https://localhost:8080/",
          "height": 533
        },
        "outputId": "7b6c1337-19e1-437e-d286-165f1ed6b81b"
      },
      "source": [
        "plt.figure()\n",
        "plot_confusion_matrix(matrix_googlenet, classes=class_names,\n",
        "                      title='Confusion matrix Googlenet')\n",
        "plt.show()"
      ],
      "execution_count": null,
      "outputs": [
        {
          "output_type": "stream",
          "text": [
            "Confusion matrix, without normalization\n"
          ],
          "name": "stdout"
        },
        {
          "output_type": "display_data",
          "data": {
            "text/plain": [
              "<Figure size 432x288 with 0 Axes>"
            ]
          },
          "metadata": {
            "tags": []
          }
        },
        {
          "output_type": "display_data",
          "data": {
            "image/png": "[encoded data removed]",
            "text/plain": [
              "<Figure size 504x504 with 2 Axes>"
            ]
          },
          "metadata": {
            "tags": [],
            "needs_background": "light"
          }
        }
      ]
    },
    {
      "cell_type": "markdown",
      "metadata": {
        "id": "BWLcuXh5RabX"
      },
      "source": [
        "VGG 16 train"
      ]
    },
    {
      "cell_type": "code",
      "metadata": {
        "colab": {
          "base_uri": "https://localhost:8080/",
          "height": 103,
          "referenced_widgets": [
            "c53acecb78e940e0b34192f641de6a79",
            "ef2f7d5739aa4ac89539534498e2ed22",
            "e5dbc199ad7d417a87a20745f141206a",
            "2b94c74c38c94c708beacb1e65bcdcea",
            "7da18b1ec2664b0597c0506dd587cbab",
            "2a521c403fb04eb9a114362cf7c445b5",
            "4595a1e9135f48a792f9dd84e8b8946a",
            "2368fb85f6424823864375bbcf0bb1ba"
          ]
        },
        "id": "T5S6fpzB-uVM",
        "outputId": "d01c729d-1a07-43b0-a3d4-1ce00a21102b"
      },
      "source": [
        "model_ft_vgg = models.vgg16_bn(pretrained=True)\n",
        "set_parameter_requires_grad(model_ft_vgg, True)\n",
        "num_ftrs = model_ft_vgg.classifier[6].in_features\n",
        "model_ft_vgg.classifier[6] = nn.Linear(num_ftrs, len(class_names))\n",
        "input_size = 224\n",
        "\n",
        "model_ft_vgg = model_ft_vgg.to(device)\n",
        "criterion = nn.CrossEntropyLoss()\n",
        "optimizer_ft = optim.SGD(model_ft_vgg.parameters(), lr=0.001, momentum=0.9)\n",
        "exp_lr_scheduler = lr_scheduler.StepLR(optimizer_ft, step_size=7, gamma=0.1)"
      ],
      "execution_count": null,
      "outputs": [
        {
          "output_type": "stream",
          "text": [
            "Downloading: \"https://download.pytorch.org/models/vgg16_bn-6c64b313.pth\" to /root/.cache/torch/hub/checkpoints/vgg16_bn-6c64b313.pth\n"
          ],
          "name": "stderr"
        },
        {
          "output_type": "display_data",
          "data": {
            "application/vnd.jupyter.widget-view+json": {
              "model_id": "c53acecb78e940e0b34192f641de6a79",
              "version_minor": 0,
              "version_major": 2
            },
            "text/plain": [
              "HBox(children=(FloatProgress(value=0.0, max=553507836.0), HTML(value='')))"
            ]
          },
          "metadata": {
            "tags": []
          }
        },
        {
          "output_type": "stream",
          "text": [
            "\n"
          ],
          "name": "stdout"
        }
      ]
    },
    {
      "cell_type": "code",
      "metadata": {
        "colab": {
          "base_uri": "https://localhost:8080/"
        },
        "id": "Q-FGUY4B-xxd",
        "outputId": "9e262905-5b99-4935-c02d-55e8994c572e"
      },
      "source": [
        "model_ft_vgg=train_model(model_ft, criterion, optimizer_ft, exp_lr_scheduler,num_epochs=25)\n",
        "torch.save(model_ft_vgg,'/mydrive/SSD/model_vgg11_train.pth')"
      ],
      "execution_count": null,
      "outputs": [
        {
          "output_type": "stream",
          "text": [
            "Epoch 0/24\n",
            "----------\n",
            "train Loss: 0.2903 Acc: 0.8991\n",
            "test Loss: 0.5762 Acc: 0.8707\n",
            "Epoch 1/24\n",
            "----------\n",
            "train Loss: 0.2864 Acc: 0.9036\n",
            "test Loss: 0.5753 Acc: 0.8707\n",
            "Epoch 2/24\n",
            "----------\n",
            "train Loss: 0.2953 Acc: 0.9008\n",
            "test Loss: 0.7445 Acc: 0.8549\n",
            "Epoch 3/24\n",
            "----------\n",
            "train Loss: 0.2822 Acc: 0.9029\n",
            "test Loss: 0.6534 Acc: 0.8635\n",
            "Epoch 4/24\n",
            "----------\n",
            "train Loss: 0.3050 Acc: 0.8951\n",
            "test Loss: 0.5651 Acc: 0.8610\n",
            "Epoch 5/24\n",
            "----------\n",
            "train Loss: 0.2812 Acc: 0.9027\n",
            "test Loss: 0.5407 Acc: 0.8746\n",
            "Epoch 6/24\n",
            "----------\n",
            "train Loss: 0.2899 Acc: 0.8997\n",
            "test Loss: 0.6155 Acc: 0.8675\n",
            "Epoch 7/24\n",
            "----------\n",
            "train Loss: 0.2891 Acc: 0.9049\n",
            "test Loss: 0.5888 Acc: 0.8642\n",
            "Epoch 8/24\n",
            "----------\n",
            "train Loss: 0.2898 Acc: 0.9027\n",
            "test Loss: 0.7329 Acc: 0.8610\n",
            "Epoch 9/24\n",
            "----------\n",
            "train Loss: 0.2986 Acc: 0.8968\n",
            "test Loss: 0.5925 Acc: 0.8746\n",
            "Epoch 10/24\n",
            "----------\n",
            "train Loss: 0.2964 Acc: 0.9017\n",
            "test Loss: 0.6126 Acc: 0.8682\n",
            "Epoch 11/24\n",
            "----------\n",
            "train Loss: 0.2937 Acc: 0.9000\n",
            "test Loss: 0.5658 Acc: 0.8772\n",
            "Epoch 12/24\n",
            "----------\n",
            "train Loss: 0.2914 Acc: 0.9010\n",
            "test Loss: 0.6750 Acc: 0.8570\n",
            "Epoch 13/24\n",
            "----------\n",
            "train Loss: 0.2797 Acc: 0.9045\n",
            "test Loss: 0.5896 Acc: 0.8732\n",
            "Epoch 14/24\n",
            "----------\n",
            "train Loss: 0.2998 Acc: 0.8986\n",
            "test Loss: 0.5646 Acc: 0.8728\n",
            "Epoch 15/24\n",
            "----------\n",
            "train Loss: 0.2914 Acc: 0.9017\n",
            "test Loss: 0.5879 Acc: 0.8678\n",
            "Epoch 16/24\n",
            "----------\n",
            "train Loss: 0.2905 Acc: 0.9012\n",
            "test Loss: 0.5546 Acc: 0.8678\n",
            "Epoch 17/24\n",
            "----------\n",
            "train Loss: 0.2937 Acc: 0.8997\n",
            "test Loss: 0.6838 Acc: 0.8614\n",
            "Epoch 18/24\n",
            "----------\n",
            "train Loss: 0.2922 Acc: 0.8975\n",
            "test Loss: 0.6307 Acc: 0.8653\n",
            "Epoch 19/24\n",
            "----------\n",
            "train Loss: 0.2911 Acc: 0.9016\n",
            "test Loss: 0.4995 Acc: 0.8861\n",
            "Epoch 20/24\n",
            "----------\n",
            "train Loss: 0.2880 Acc: 0.9018\n",
            "test Loss: 0.6219 Acc: 0.8660\n",
            "Epoch 21/24\n",
            "----------\n",
            "train Loss: 0.2856 Acc: 0.9026\n",
            "test Loss: 0.7690 Acc: 0.8488\n",
            "Epoch 22/24\n",
            "----------\n",
            "train Loss: 0.2962 Acc: 0.8997\n",
            "test Loss: 0.5177 Acc: 0.8793\n",
            "Epoch 23/24\n",
            "----------\n",
            "train Loss: 0.2842 Acc: 0.9018\n",
            "test Loss: 0.5950 Acc: 0.8635\n",
            "Epoch 24/24\n",
            "----------\n",
            "train Loss: 0.2961 Acc: 0.8993\n",
            "test Loss: 0.6375 Acc: 0.8606\n",
            "Training complete in 44m 27s\n",
            "Best val Acc: 0.886135\n"
          ],
          "name": "stdout"
        }
      ]
    },
    {
      "cell_type": "code",
      "metadata": {
        "colab": {
          "base_uri": "https://localhost:8080/",
          "height": 583
        },
        "id": "1APFwO63-1pP",
        "outputId": "a5ffa1df-9c78-4b05-e90b-2bc15f189190"
      },
      "source": [
        "visualize_model(model_ft_vgg)"
      ],
      "execution_count": null,
      "outputs": [
        {
          "output_type": "display_data",
          "data": {
            "image/png": "[encoded data removed]",
            "text/plain": [
              "<Figure size 432x288 with 1 Axes>"
            ]
          },
          "metadata": {
            "tags": [],
            "needs_background": "light"
          }
        },
        {
          "output_type": "display_data",
          "data": {
            "image/png": "[encoded data removed]",
            "text/plain": [
              "<Figure size 432x288 with 1 Axes>"
            ]
          },
          "metadata": {
            "tags": [],
            "needs_background": "light"
          }
        },
        {
          "output_type": "display_data",
          "data": {
            "image/png": "[encoded data removed]",
            "text/plain": [
              "<Figure size 432x288 with 1 Axes>"
            ]
          },
          "metadata": {
            "tags": [],
            "needs_background": "light"
          }
        },
        {
          "output_type": "display_data",
          "data": {
            "image/png": "[encoded data removed]",
            "text/plain": [
              "<Figure size 432x288 with 1 Axes>"
            ]
          },
          "metadata": {
            "tags": [],
            "needs_background": "light"
          }
        },
        {
          "output_type": "display_data",
          "data": {
            "image/png": "[encoded data removed]",
            "text/plain": [
              "<Figure size 432x288 with 1 Axes>"
            ]
          },
          "metadata": {
            "tags": [],
            "needs_background": "light"
          }
        },
        {
          "output_type": "display_data",
          "data": {
            "image/png": "[encoded data removed]",
            "text/plain": [
              "<Figure size 432x288 with 1 Axes>"
            ]
          },
          "metadata": {
            "tags": [],
            "needs_background": "light"
          }
        }
      ]
    },
    {
      "cell_type": "code",
      "metadata": {
        "id": "VX_dnUcB-6yt"
      },
      "source": [
        "model_ft_vgg = model_ft_vgg.to(device)\n",
        "params_to_update = model_ft_vgg.parameters()\n",
        "if True:\n",
        "    params_to_update = []\n",
        "    for name,param in model_ft.named_parameters():\n",
        "        if param.requires_grad == True:\n",
        "            params_to_update.append(param)\n",
        "optimizer_ft = optim.SGD(params_to_update, lr=0.001, momentum=0.9)"
      ],
      "execution_count": null,
      "outputs": []
    },
    {
      "cell_type": "code",
      "metadata": {
        "colab": {
          "base_uri": "https://localhost:8080/"
        },
        "id": "STDAcocr_A9i",
        "outputId": "915c5750-ae89-4994-c96b-b2a1513636a6"
      },
      "source": [
        "model_vgg = train_model(model_ft_vgg, criterion, optimizer_ft, exp_lr_scheduler,num_epochs=25)\n",
        "torch.save(model_vgg,'/mydrive/SSD/model_vgg11.pth')"
      ],
      "execution_count": null,
      "outputs": [
        {
          "output_type": "stream",
          "text": [
            "Epoch 0/24\n",
            "----------\n",
            "train Loss: 0.2986 Acc: 0.8993\n",
            "test Loss: 0.7923 Acc: 0.8560\n",
            "Epoch 1/24\n",
            "----------\n",
            "train Loss: 0.3020 Acc: 0.8960\n",
            "test Loss: 0.6618 Acc: 0.8671\n",
            "Epoch 2/24\n",
            "----------\n",
            "train Loss: 0.2896 Acc: 0.9005\n",
            "test Loss: 0.5806 Acc: 0.8693\n",
            "Epoch 3/24\n",
            "----------\n",
            "train Loss: 0.2778 Acc: 0.9048\n",
            "test Loss: 0.6034 Acc: 0.8657\n",
            "Epoch 4/24\n",
            "----------\n",
            "train Loss: 0.2848 Acc: 0.9046\n",
            "test Loss: 0.6349 Acc: 0.8682\n",
            "Epoch 5/24\n",
            "----------\n",
            "train Loss: 0.2977 Acc: 0.8961\n",
            "test Loss: 0.8512 Acc: 0.8520\n",
            "Epoch 6/24\n",
            "----------\n",
            "train Loss: 0.2810 Acc: 0.9060\n",
            "test Loss: 0.5728 Acc: 0.8710\n",
            "Epoch 7/24\n",
            "----------\n",
            "train Loss: 0.2910 Acc: 0.8994\n",
            "test Loss: 0.6131 Acc: 0.8617\n",
            "Epoch 8/24\n",
            "----------\n",
            "train Loss: 0.2879 Acc: 0.9001\n",
            "test Loss: 0.5625 Acc: 0.8754\n",
            "Epoch 9/24\n",
            "----------\n",
            "train Loss: 0.2978 Acc: 0.8990\n",
            "test Loss: 0.5373 Acc: 0.8793\n",
            "Epoch 10/24\n",
            "----------\n",
            "train Loss: 0.2926 Acc: 0.9002\n",
            "test Loss: 0.6000 Acc: 0.8693\n",
            "Epoch 11/24\n",
            "----------\n",
            "train Loss: 0.2820 Acc: 0.9036\n",
            "test Loss: 0.6938 Acc: 0.8631\n",
            "Epoch 12/24\n",
            "----------\n",
            "train Loss: 0.2884 Acc: 0.9001\n",
            "test Loss: 0.6136 Acc: 0.8682\n",
            "Epoch 13/24\n",
            "----------\n",
            "train Loss: 0.2963 Acc: 0.8994\n",
            "test Loss: 0.7377 Acc: 0.8455\n",
            "Epoch 14/24\n",
            "----------\n",
            "train Loss: 0.2862 Acc: 0.9014\n",
            "test Loss: 0.5353 Acc: 0.8782\n",
            "Epoch 15/24\n",
            "----------\n",
            "train Loss: 0.2802 Acc: 0.9021\n",
            "test Loss: 0.5692 Acc: 0.8675\n",
            "Epoch 16/24\n",
            "----------\n",
            "train Loss: 0.2866 Acc: 0.9000\n",
            "test Loss: 0.5396 Acc: 0.8754\n",
            "Epoch 17/24\n",
            "----------\n",
            "train Loss: 0.2853 Acc: 0.9017\n",
            "test Loss: 0.5653 Acc: 0.8700\n",
            "Epoch 18/24\n",
            "----------\n",
            "train Loss: 0.2859 Acc: 0.9042\n",
            "test Loss: 0.6252 Acc: 0.8754\n",
            "Epoch 19/24\n",
            "----------\n",
            "train Loss: 0.2784 Acc: 0.9050\n",
            "test Loss: 0.5743 Acc: 0.8768\n",
            "Epoch 20/24\n",
            "----------\n",
            "train Loss: 0.2954 Acc: 0.8976\n",
            "test Loss: 0.5670 Acc: 0.8750\n",
            "Epoch 21/24\n",
            "----------\n",
            "train Loss: 0.2740 Acc: 0.9037\n",
            "test Loss: 0.6480 Acc: 0.8696\n",
            "Epoch 22/24\n",
            "----------\n",
            "train Loss: 0.2946 Acc: 0.9015\n",
            "test Loss: 0.7393 Acc: 0.8603\n",
            "Epoch 23/24\n",
            "----------\n",
            "train Loss: 0.2814 Acc: 0.9039\n",
            "test Loss: 0.5871 Acc: 0.8714\n",
            "Epoch 24/24\n",
            "----------\n",
            "train Loss: 0.2926 Acc: 0.9013\n",
            "test Loss: 0.7387 Acc: 0.8560\n",
            "Training complete in 44m 46s\n",
            "Best val Acc: 0.879310\n"
          ],
          "name": "stdout"
        }
      ]
    },
    {
      "cell_type": "code",
      "metadata": {
        "colab": {
          "base_uri": "https://localhost:8080/",
          "height": 583
        },
        "id": "FB7J6wuX_EDJ",
        "outputId": "7dcd945a-0961-4341-a876-af1427af6a04"
      },
      "source": [
        "visualize_model(model_vgg)"
      ],
      "execution_count": null,
      "outputs": [
        {
          "output_type": "display_data",
          "data": {
            "image/png": "[encoded data removed]",
            "text/plain": [
              "<Figure size 432x288 with 1 Axes>"
            ]
          },
          "metadata": {
            "tags": [],
            "needs_background": "light"
          }
        },
        {
          "output_type": "display_data",
          "data": {
            "image/png": "[encoded data removed]",
            "text/plain": [
              "<Figure size 432x288 with 1 Axes>"
            ]
          },
          "metadata": {
            "tags": [],
            "needs_background": "light"
          }
        },
        {
          "output_type": "display_data",
          "data": {
            "image/png": "[encoded data removed]",
            "text/plain": [
              "<Figure size 432x288 with 1 Axes>"
            ]
          },
          "metadata": {
            "tags": [],
            "needs_background": "light"
          }
        },
        {
          "output_type": "display_data",
          "data": {
            "image/png": "[encoded data removed]",
            "text/plain": [
              "<Figure size 432x288 with 1 Axes>"
            ]
          },
          "metadata": {
            "tags": [],
            "needs_background": "light"
          }
        },
        {
          "output_type": "display_data",
          "data": {
            "image/png": "[encoded data removed]",
            "text/plain": [
              "<Figure size 432x288 with 1 Axes>"
            ]
          },
          "metadata": {
            "tags": [],
            "needs_background": "light"
          }
        },
        {
          "output_type": "display_data",
          "data": {
            "image/png": "[encoded data removed]",
            "text/plain": [
              "<Figure size 432x288 with 1 Axes>"
            ]
          },
          "metadata": {
            "tags": [],
            "needs_background": "light"
          }
        }
      ]
    },
    {
      "cell_type": "code",
      "metadata": {
        "id": "gJ2e2AQB_PoC"
      },
      "source": [
        "matrix_vgg,real_vgg,predicted_vgg=matrix_conf(model_vgg,class_names)\n"
      ],
      "execution_count": null,
      "outputs": []
    },
    {
      "cell_type": "code",
      "metadata": {
        "colab": {
          "base_uri": "https://localhost:8080/",
          "height": 534
        },
        "id": "A-qwlVZu_U00",
        "outputId": "dc4609b0-52c2-4dc9-8409-14e3a6556cec"
      },
      "source": [
        "plt.figure()\n",
        "plot_confusion_matrix(matrix_vgg, classes=class_names,\n",
        "                      title='Confusion matrix VGG1q')\n",
        "plt.show()"
      ],
      "execution_count": null,
      "outputs": [
        {
          "output_type": "stream",
          "text": [
            "Confusion matrix, without normalization\n"
          ],
          "name": "stdout"
        },
        {
          "output_type": "display_data",
          "data": {
            "text/plain": [
              "<Figure size 432x288 with 0 Axes>"
            ]
          },
          "metadata": {
            "tags": []
          }
        },
        {
          "output_type": "display_data",
          "data": {
            "image/png": "[encoded data removed]",
            "text/plain": [
              "<Figure size 504x504 with 2 Axes>"
            ]
          },
          "metadata": {
            "tags": [],
            "needs_background": "light"
          }
        }
      ]
    }
  ]
}